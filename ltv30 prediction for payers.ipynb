{
 "cells": [
  {
   "cell_type": "code",
   "execution_count": 1,
   "metadata": {
    "collapsed": false
   },
   "outputs": [
    {
     "name": "stdout",
     "output_type": "stream",
     "text": [
      "Populating the interactive namespace from numpy and matplotlib\n"
     ]
    }
   ],
   "source": [
    "import numpy as np\n",
    "import pandas as pd\n",
    "import seaborn as sns\n",
    "%pylab inline"
   ]
  },
  {
   "cell_type": "code",
   "execution_count": 2,
   "metadata": {
    "collapsed": true
   },
   "outputs": [],
   "source": [
    "from sklearn.neighbors import KNeighborsRegressor\n",
    "from sklearn.svm import SVR\n",
    "from sklearn.ensemble import GradientBoostingRegressor, RandomForestRegressor, ExtraTreesRegressor\n",
    "from sklearn.linear_model import Ridge, LinearRegression\n",
    "from sklearn.preprocessing import StandardScaler\n",
    "from sklearn.pipeline import Pipeline\n",
    "from sklearn.metrics import mean_absolute_error, mean_squared_error, r2_score\n",
    "from sklearn.preprocessing import PolynomialFeatures\n",
    "from sklearn.preprocessing import LabelEncoder, OneHotEncoder"
   ]
  },
  {
   "cell_type": "code",
   "execution_count": 3,
   "metadata": {
    "collapsed": true
   },
   "outputs": [],
   "source": [
    "import warnings\n",
    "warnings.filterwarnings(\"ignore\")"
   ]
  },
  {
   "cell_type": "code",
   "execution_count": 4,
   "metadata": {
    "collapsed": false
   },
   "outputs": [
    {
     "data": {
      "text/html": [
       "<div>\n",
       "<table border=\"1\" class=\"dataframe\">\n",
       "  <thead>\n",
       "    <tr style=\"text-align: right;\">\n",
       "      <th></th>\n",
       "      <th>id</th>\n",
       "      <th>country</th>\n",
       "      <th>number_of_pgr</th>\n",
       "      <th>actdate</th>\n",
       "    </tr>\n",
       "  </thead>\n",
       "  <tbody>\n",
       "    <tr>\n",
       "      <th>0</th>\n",
       "      <td>c1d690f4ce</td>\n",
       "      <td>AU</td>\n",
       "      <td>9</td>\n",
       "      <td>2017-02-21</td>\n",
       "    </tr>\n",
       "    <tr>\n",
       "      <th>1</th>\n",
       "      <td>c1d690f4ce</td>\n",
       "      <td>AU</td>\n",
       "      <td>32</td>\n",
       "      <td>2017-02-18</td>\n",
       "    </tr>\n",
       "    <tr>\n",
       "      <th>2</th>\n",
       "      <td>c1d690f4ce</td>\n",
       "      <td>AU</td>\n",
       "      <td>11</td>\n",
       "      <td>2017-02-12</td>\n",
       "    </tr>\n",
       "    <tr>\n",
       "      <th>3</th>\n",
       "      <td>c1d690f4ce</td>\n",
       "      <td>AU</td>\n",
       "      <td>2</td>\n",
       "      <td>2017-02-17</td>\n",
       "    </tr>\n",
       "    <tr>\n",
       "      <th>4</th>\n",
       "      <td>c1d690f4ce</td>\n",
       "      <td>AU</td>\n",
       "      <td>4</td>\n",
       "      <td>2017-02-16</td>\n",
       "    </tr>\n",
       "  </tbody>\n",
       "</table>\n",
       "</div>"
      ],
      "text/plain": [
       "           id country  number_of_pgr     actdate\n",
       "0  c1d690f4ce      AU              9  2017-02-21\n",
       "1  c1d690f4ce      AU             32  2017-02-18\n",
       "2  c1d690f4ce      AU             11  2017-02-12\n",
       "3  c1d690f4ce      AU              2  2017-02-17\n",
       "4  c1d690f4ce      AU              4  2017-02-16"
      ]
     },
     "execution_count": 4,
     "metadata": {},
     "output_type": "execute_result"
    }
   ],
   "source": [
    "dau = pd.read_csv(\"practice_dau_ios.csv\", sep=\"|\", names=[\"id\", \n",
    "                                                          \"country\", \n",
    "                                                          \"number_of_pgr\", \n",
    "                                                          \"actdate\"])\n",
    "dau.head()"
   ]
  },
  {
   "cell_type": "code",
   "execution_count": 5,
   "metadata": {
    "collapsed": false
   },
   "outputs": [
    {
     "data": {
      "text/html": [
       "<div>\n",
       "<table border=\"1\" class=\"dataframe\">\n",
       "  <thead>\n",
       "    <tr style=\"text-align: right;\">\n",
       "      <th></th>\n",
       "      <th>id</th>\n",
       "      <th>actdate</th>\n",
       "      <th>regdate</th>\n",
       "      <th>clusters_ml_ended</th>\n",
       "      <th>revenue</th>\n",
       "      <th>transactions</th>\n",
       "      <th>quests_end</th>\n",
       "      <th>m_quests_end</th>\n",
       "      <th>crystals_value_spend</th>\n",
       "      <th>store_enters</th>\n",
       "    </tr>\n",
       "  </thead>\n",
       "  <tbody>\n",
       "    <tr>\n",
       "      <th>0</th>\n",
       "      <td>767bc9dfd3</td>\n",
       "      <td>2017-01-01</td>\n",
       "      <td>2017-01-01</td>\n",
       "      <td>1</td>\n",
       "      <td>0.0</td>\n",
       "      <td>0</td>\n",
       "      <td>9</td>\n",
       "      <td>0</td>\n",
       "      <td>0</td>\n",
       "      <td>0</td>\n",
       "    </tr>\n",
       "    <tr>\n",
       "      <th>1</th>\n",
       "      <td>249241537d</td>\n",
       "      <td>2017-01-01</td>\n",
       "      <td>2017-01-01</td>\n",
       "      <td>3</td>\n",
       "      <td>0.0</td>\n",
       "      <td>0</td>\n",
       "      <td>49</td>\n",
       "      <td>7</td>\n",
       "      <td>0</td>\n",
       "      <td>0</td>\n",
       "    </tr>\n",
       "    <tr>\n",
       "      <th>2</th>\n",
       "      <td>740d34570d</td>\n",
       "      <td>2017-01-01</td>\n",
       "      <td>2017-01-01</td>\n",
       "      <td>7</td>\n",
       "      <td>0.0</td>\n",
       "      <td>0</td>\n",
       "      <td>138</td>\n",
       "      <td>25</td>\n",
       "      <td>0</td>\n",
       "      <td>0</td>\n",
       "    </tr>\n",
       "    <tr>\n",
       "      <th>3</th>\n",
       "      <td>d288a3fd89</td>\n",
       "      <td>2017-01-02</td>\n",
       "      <td>2017-01-02</td>\n",
       "      <td>-2</td>\n",
       "      <td>0.0</td>\n",
       "      <td>0</td>\n",
       "      <td>0</td>\n",
       "      <td>0</td>\n",
       "      <td>0</td>\n",
       "      <td>0</td>\n",
       "    </tr>\n",
       "    <tr>\n",
       "      <th>4</th>\n",
       "      <td>ed716df037</td>\n",
       "      <td>2017-01-02</td>\n",
       "      <td>2017-01-01</td>\n",
       "      <td>2</td>\n",
       "      <td>0.0</td>\n",
       "      <td>0</td>\n",
       "      <td>3</td>\n",
       "      <td>1</td>\n",
       "      <td>0</td>\n",
       "      <td>0</td>\n",
       "    </tr>\n",
       "  </tbody>\n",
       "</table>\n",
       "</div>"
      ],
      "text/plain": [
       "           id     actdate     regdate  clusters_ml_ended  revenue  \\\n",
       "0  767bc9dfd3  2017-01-01  2017-01-01                  1      0.0   \n",
       "1  249241537d  2017-01-01  2017-01-01                  3      0.0   \n",
       "2  740d34570d  2017-01-01  2017-01-01                  7      0.0   \n",
       "3  d288a3fd89  2017-01-02  2017-01-02                 -2      0.0   \n",
       "4  ed716df037  2017-01-02  2017-01-01                  2      0.0   \n",
       "\n",
       "   transactions  quests_end  m_quests_end  crystals_value_spend  store_enters  \n",
       "0             0           9             0                     0             0  \n",
       "1             0          49             7                     0             0  \n",
       "2             0         138            25                     0             0  \n",
       "3             0           0             0                     0             0  \n",
       "4             0           3             1                     0             0  "
      ]
     },
     "execution_count": 5,
     "metadata": {},
     "output_type": "execute_result"
    }
   ],
   "source": [
    "pact = pd.read_csv(\"practice_pact_ios.csv\", sep=\"|\", \n",
    "                   names=[\"id\", \n",
    "                          \"actdate\", \n",
    "                          \"regdate\", \n",
    "                          \"clusters_ml_ended\", \n",
    "                          \"revenue\", \n",
    "                          \"transactions\", \n",
    "                          \"quests_end\", \n",
    "                          \"m_quests_end\", \n",
    "                          \"crystals_value_spend\", \n",
    "                          \"store_enters\",\n",
    "                         ])\n",
    "pact.head()"
   ]
  },
  {
   "cell_type": "code",
   "execution_count": 6,
   "metadata": {
    "collapsed": false
   },
   "outputs": [
    {
     "data": {
      "text/html": [
       "<div>\n",
       "<table border=\"1\" class=\"dataframe\">\n",
       "  <thead>\n",
       "    <tr style=\"text-align: right;\">\n",
       "      <th></th>\n",
       "      <th>id</th>\n",
       "      <th>session_number</th>\n",
       "      <th>session_length</th>\n",
       "      <th>session_start_time</th>\n",
       "      <th>session_end_time</th>\n",
       "      <th>actdate</th>\n",
       "    </tr>\n",
       "  </thead>\n",
       "  <tbody>\n",
       "    <tr>\n",
       "      <th>0</th>\n",
       "      <td>00e954a1b3</td>\n",
       "      <td>12.0</td>\n",
       "      <td>29</td>\n",
       "      <td>1486997200</td>\n",
       "      <td>1486997229</td>\n",
       "      <td>2017-02-13</td>\n",
       "    </tr>\n",
       "    <tr>\n",
       "      <th>1</th>\n",
       "      <td>028498cd03</td>\n",
       "      <td>1.0</td>\n",
       "      <td>445</td>\n",
       "      <td>1485039376</td>\n",
       "      <td>1485039821</td>\n",
       "      <td>2017-01-21</td>\n",
       "    </tr>\n",
       "    <tr>\n",
       "      <th>2</th>\n",
       "      <td>12ab1dfa82</td>\n",
       "      <td>8.0</td>\n",
       "      <td>0</td>\n",
       "      <td>1486756815</td>\n",
       "      <td>1486756815</td>\n",
       "      <td>2017-02-10</td>\n",
       "    </tr>\n",
       "    <tr>\n",
       "      <th>3</th>\n",
       "      <td>0a0a1ffe3b</td>\n",
       "      <td>5.0</td>\n",
       "      <td>2846</td>\n",
       "      <td>1484976494</td>\n",
       "      <td>1484979340</td>\n",
       "      <td>2017-01-21</td>\n",
       "    </tr>\n",
       "    <tr>\n",
       "      <th>4</th>\n",
       "      <td>01c68437aa</td>\n",
       "      <td>7.0</td>\n",
       "      <td>1610</td>\n",
       "      <td>1484329332</td>\n",
       "      <td>1484330942</td>\n",
       "      <td>2017-01-13</td>\n",
       "    </tr>\n",
       "  </tbody>\n",
       "</table>\n",
       "</div>"
      ],
      "text/plain": [
       "           id  session_number  session_length  session_start_time  \\\n",
       "0  00e954a1b3            12.0              29          1486997200   \n",
       "1  028498cd03             1.0             445          1485039376   \n",
       "2  12ab1dfa82             8.0               0          1486756815   \n",
       "3  0a0a1ffe3b             5.0            2846          1484976494   \n",
       "4  01c68437aa             7.0            1610          1484329332   \n",
       "\n",
       "   session_end_time     actdate  \n",
       "0        1486997229  2017-02-13  \n",
       "1        1485039821  2017-01-21  \n",
       "2        1486756815  2017-02-10  \n",
       "3        1484979340  2017-01-21  \n",
       "4        1484330942  2017-01-13  "
      ]
     },
     "execution_count": 6,
     "metadata": {},
     "output_type": "execute_result"
    }
   ],
   "source": [
    "sessions = pd.read_csv(\"practice_sessions_ios.csv\", sep=\"|\", \n",
    "                       names=[\"id\", \n",
    "                              \"session_number\", \n",
    "                              \"session_length\", \n",
    "                              \"session_start_time\", \n",
    "                              \"session_end_time\", \n",
    "                              \"actdate\",\n",
    "                             ])\n",
    "sessions.head()"
   ]
  },
  {
   "cell_type": "code",
   "execution_count": 7,
   "metadata": {
    "collapsed": true
   },
   "outputs": [],
   "source": [
    "def to_days(date):\n",
    "    months = [31, 28, 31, 30, 31, 30, 31, 31, 30, 31, 30, 31]\n",
    "    year, month, day = list(map(int, date.split(\"-\")))\n",
    "    days = sum(months[:month - 1]) + day\n",
    "    return days"
   ]
  },
  {
   "cell_type": "code",
   "execution_count": 8,
   "metadata": {
    "collapsed": false
   },
   "outputs": [],
   "source": [
    "dau[\"actday\"] = dau[\"actdate\"].apply(to_days)\n",
    "\n",
    "pact[\"actday\"] = pact[\"actdate\"].apply(to_days)\n",
    "pact[\"regday\"] = pact[\"regdate\"].apply(to_days)\n",
    "pact[\"days_after_reg\"] = pact.actday - pact.regday\n",
    "\n",
    "sessions[\"actday\"] = sessions[\"actdate\"].apply(to_days)"
   ]
  },
  {
   "cell_type": "code",
   "execution_count": 9,
   "metadata": {
    "collapsed": false
   },
   "outputs": [],
   "source": [
    "# train\n",
    "\n",
    "# данные пользователей, которые зарегистрировались в первые 3 месяца\n",
    "# только о событиях в первые 30 дней после регистрации\n",
    "n_months = 3\n",
    "df = pact[np.logical_and(pact.regday <= 30 * n_months, pact.days_after_reg < 30)]\n",
    "\n",
    "# доход с пользователя за первые 30 дней после регистрации\n",
    "month_revenue = df.groupby(\"id\")[\"revenue\", \"transactions\"].sum()\n",
    "\n",
    "# доход только с тех пользователей, которые платили (за 30 дней)\n",
    "month_payers = month_revenue[month_revenue.revenue != 0]\n",
    "\n",
    "# id пользователей, которые платили в течение первых 30 дней после регистрации\n",
    "payers_id = month_payers.index\n",
    "\n",
    "# целевая переменная - доход с (платящего) пользователя за 30 дней\n",
    "y = month_payers.revenue"
   ]
  },
  {
   "cell_type": "code",
   "execution_count": 10,
   "metadata": {
    "collapsed": false
   },
   "outputs": [],
   "source": [
    "# test\n",
    "\n",
    "# данные пользователей, которые зарегистрировались в 4ом месяце\n",
    "# только о событиях в первые 30 дней после регистрации\n",
    "n_months_test = 4\n",
    "df_test = pact[np.logical_and(\n",
    "    np.logical_and(pact.regday > 30 * n_months, pact.regday <= 30 * n_months_test), \n",
    "    pact.days_after_reg < 30)]\n",
    "\n",
    "# доход с пользователя за первые 30 дней после регистрации\n",
    "month_revenue_test = df_test.groupby(\"id\")[\"revenue\", \"transactions\"].sum()\n",
    "\n",
    "# доход только с тех пользователей, которые платили (30 дней)\n",
    "month_payers_test = month_revenue_test[month_revenue_test.revenue != 0]\n",
    "\n",
    "# id пользователей, которые платили в течение первых 30 дней после регистрации\n",
    "payers_id_test = month_payers_test.index\n",
    "\n",
    "# целевая переменная - доход с (платящего) пользователя за 30 дней\n",
    "y_test = month_payers_test.revenue"
   ]
  },
  {
   "cell_type": "code",
   "execution_count": null,
   "metadata": {
    "collapsed": true
   },
   "outputs": [],
   "source": []
  },
  {
   "cell_type": "code",
   "execution_count": 11,
   "metadata": {
    "collapsed": true
   },
   "outputs": [],
   "source": [
    "def get_time_series(days_data, index, col_name, n_days=30, with_nan=False):\n",
    "    days_data = days_data.set_index(index)\n",
    "    t = pd.Series(days_data.loc[:, col_name], index=np.arange(0, n_days))\n",
    "    if not with_nan:\n",
    "        t.fillna(0, inplace=True)\n",
    "    return t.values"
   ]
  },
  {
   "cell_type": "code",
   "execution_count": 12,
   "metadata": {
    "collapsed": true
   },
   "outputs": [],
   "source": [
    "def get_time_series_dataset(grouped_dataset, group_id, feature, period_feature, n_days, with_nan=False):\n",
    "    time_series = np.zeros((group_id.size, n_days))\n",
    "    for i in range(group_id.size):\n",
    "        time_series[i] = get_time_series(grouped_dataset.get_group(group_id[i])[[feature, period_feature]], \n",
    "                                         index=period_feature, col_name=feature, n_days=n_days, with_nan=with_nan)\n",
    "    time_series = pd.DataFrame(time_series, index=group_id, columns=np.arange(1, n_days + 1))\n",
    "    return time_series"
   ]
  },
  {
   "cell_type": "code",
   "execution_count": 13,
   "metadata": {
    "collapsed": true
   },
   "outputs": [],
   "source": [
    "grouped = pd.DataFrame(df.groupby([\"id\", \"days_after_reg\"]).sum()).reset_index()\n",
    "grouped = grouped.groupby(\"id\")\n",
    "grouped_test = pd.DataFrame(df_test.groupby([\"id\", \"days_after_reg\"]).sum()).reset_index()\n",
    "grouped_test = grouped_test.groupby(\"id\")"
   ]
  },
  {
   "cell_type": "code",
   "execution_count": 14,
   "metadata": {
    "collapsed": true
   },
   "outputs": [],
   "source": [
    "n_days = 30\n",
    "payers_revenue_ts = get_time_series_dataset(grouped_dataset=grouped, group_id=payers_id, feature=\"revenue\", period_feature=\"days_after_reg\", n_days=n_days)\n",
    "payers_revenue_ts_test = get_time_series_dataset(grouped_dataset=grouped_test, group_id=payers_id_test, feature=\"revenue\", period_feature=\"days_after_reg\", n_days=n_days)"
   ]
  },
  {
   "cell_type": "code",
   "execution_count": 15,
   "metadata": {
    "collapsed": true
   },
   "outputs": [],
   "source": [
    "n_days = 30\n",
    "payers_quests_ts = get_time_series_dataset(grouped_dataset=grouped, group_id=payers_id, feature=\"quests_end\", period_feature=\"days_after_reg\", n_days=n_days)\n",
    "payers_quests_ts_test = get_time_series_dataset(grouped_dataset=grouped_test, group_id=payers_id_test, feature=\"quests_end\", period_feature=\"days_after_reg\", n_days=n_days)"
   ]
  },
  {
   "cell_type": "code",
   "execution_count": 16,
   "metadata": {
    "collapsed": true
   },
   "outputs": [],
   "source": [
    "n_days = 30\n",
    "payers_m_quests_ts = get_time_series_dataset(grouped_dataset=grouped, group_id=payers_id, feature=\"m_quests_end\", period_feature=\"days_after_reg\", n_days=n_days)\n",
    "payers_m_quests_ts_test = get_time_series_dataset(grouped_dataset=grouped_test, group_id=payers_id_test, feature=\"m_quests_end\", period_feature=\"days_after_reg\", n_days=n_days)"
   ]
  },
  {
   "cell_type": "code",
   "execution_count": 17,
   "metadata": {
    "collapsed": true
   },
   "outputs": [],
   "source": [
    "payers_all_quests_ts = payers_m_quests_ts + payers_quests_ts\n",
    "payers_all_quests_ts_test = payers_m_quests_ts_test + payers_quests_ts_test"
   ]
  },
  {
   "cell_type": "code",
   "execution_count": null,
   "metadata": {
    "collapsed": true
   },
   "outputs": [],
   "source": []
  },
  {
   "cell_type": "code",
   "execution_count": 18,
   "metadata": {
    "collapsed": false
   },
   "outputs": [
    {
     "data": {
      "text/html": [
       "<div>\n",
       "<table border=\"1\" class=\"dataframe\">\n",
       "  <thead>\n",
       "    <tr style=\"text-align: right;\">\n",
       "      <th></th>\n",
       "      <th>id</th>\n",
       "      <th>session_number</th>\n",
       "      <th>session_length</th>\n",
       "      <th>session_start_time</th>\n",
       "      <th>session_end_time</th>\n",
       "      <th>actdate</th>\n",
       "      <th>actday</th>\n",
       "      <th>regday</th>\n",
       "      <th>days_after_reg</th>\n",
       "    </tr>\n",
       "  </thead>\n",
       "  <tbody>\n",
       "    <tr>\n",
       "      <th>0</th>\n",
       "      <td>00e954a1b3</td>\n",
       "      <td>12.0</td>\n",
       "      <td>29</td>\n",
       "      <td>1486997200</td>\n",
       "      <td>1486997229</td>\n",
       "      <td>2017-02-13</td>\n",
       "      <td>44.0</td>\n",
       "      <td>2.0</td>\n",
       "      <td>42.0</td>\n",
       "    </tr>\n",
       "    <tr>\n",
       "      <th>4</th>\n",
       "      <td>01c68437aa</td>\n",
       "      <td>7.0</td>\n",
       "      <td>1610</td>\n",
       "      <td>1484329332</td>\n",
       "      <td>1484330942</td>\n",
       "      <td>2017-01-13</td>\n",
       "      <td>13.0</td>\n",
       "      <td>9.0</td>\n",
       "      <td>4.0</td>\n",
       "    </tr>\n",
       "    <tr>\n",
       "      <th>8</th>\n",
       "      <td>00db2c8373</td>\n",
       "      <td>54.0</td>\n",
       "      <td>725</td>\n",
       "      <td>1486563826</td>\n",
       "      <td>1486564551</td>\n",
       "      <td>2017-02-08</td>\n",
       "      <td>39.0</td>\n",
       "      <td>36.0</td>\n",
       "      <td>3.0</td>\n",
       "    </tr>\n",
       "    <tr>\n",
       "      <th>9</th>\n",
       "      <td>015025c95b</td>\n",
       "      <td>14.0</td>\n",
       "      <td>199</td>\n",
       "      <td>1483641774</td>\n",
       "      <td>1483641973</td>\n",
       "      <td>2017-01-05</td>\n",
       "      <td>5.0</td>\n",
       "      <td>63.0</td>\n",
       "      <td>-58.0</td>\n",
       "    </tr>\n",
       "    <tr>\n",
       "      <th>23</th>\n",
       "      <td>01bbbfa69d</td>\n",
       "      <td>35.0</td>\n",
       "      <td>929</td>\n",
       "      <td>1486652111</td>\n",
       "      <td>1486653040</td>\n",
       "      <td>2017-02-09</td>\n",
       "      <td>40.0</td>\n",
       "      <td>2.0</td>\n",
       "      <td>38.0</td>\n",
       "    </tr>\n",
       "  </tbody>\n",
       "</table>\n",
       "</div>"
      ],
      "text/plain": [
       "            id  session_number  session_length  session_start_time  \\\n",
       "0   00e954a1b3            12.0              29          1486997200   \n",
       "4   01c68437aa             7.0            1610          1484329332   \n",
       "8   00db2c8373            54.0             725          1486563826   \n",
       "9   015025c95b            14.0             199          1483641774   \n",
       "23  01bbbfa69d            35.0             929          1486652111   \n",
       "\n",
       "    session_end_time     actdate  actday  regday  days_after_reg  \n",
       "0         1486997229  2017-02-13    44.0     2.0            42.0  \n",
       "4         1484330942  2017-01-13    13.0     9.0             4.0  \n",
       "8         1486564551  2017-02-08    39.0    36.0             3.0  \n",
       "9         1483641973  2017-01-05     5.0    63.0           -58.0  \n",
       "23        1486653040  2017-02-09    40.0     2.0            38.0  "
      ]
     },
     "execution_count": 18,
     "metadata": {},
     "output_type": "execute_result"
    }
   ],
   "source": [
    "payers_regday = df.loc[df.id.isin(payers_id), :].groupby(\"id\")[\"regday\"].first()\n",
    "payers_session = sessions.loc[sessions.id.isin(payers_id)]\n",
    "payers_session = payers_session.join(payers_regday, on=\"id\")\n",
    "payers_session[\"days_after_reg\"] = payers_session.actday - payers_session.regday\n",
    "payers_session.head()"
   ]
  },
  {
   "cell_type": "code",
   "execution_count": 19,
   "metadata": {
    "collapsed": false
   },
   "outputs": [],
   "source": [
    "# сессии платящих игроков в течение первых 30 после регистрации\n",
    "month_payers_session = payers_session.loc[payers_session.days_after_reg < 30, :]\n",
    "grouped = pd.DataFrame(month_payers_session.groupby([\"id\", \"days_after_reg\"]).session_length.sum()).reset_index()\n",
    "grouped = grouped.groupby(\"id\")"
   ]
  },
  {
   "cell_type": "code",
   "execution_count": 20,
   "metadata": {
    "collapsed": false
   },
   "outputs": [
    {
     "data": {
      "text/html": [
       "<div>\n",
       "<table border=\"1\" class=\"dataframe\">\n",
       "  <thead>\n",
       "    <tr style=\"text-align: right;\">\n",
       "      <th></th>\n",
       "      <th>id</th>\n",
       "      <th>session_number</th>\n",
       "      <th>session_length</th>\n",
       "      <th>session_start_time</th>\n",
       "      <th>session_end_time</th>\n",
       "      <th>actdate</th>\n",
       "      <th>actday</th>\n",
       "      <th>regday</th>\n",
       "      <th>days_after_reg</th>\n",
       "    </tr>\n",
       "  </thead>\n",
       "  <tbody>\n",
       "    <tr>\n",
       "      <th>167</th>\n",
       "      <td>00f6480332</td>\n",
       "      <td>16.0</td>\n",
       "      <td>0</td>\n",
       "      <td>1484775488</td>\n",
       "      <td>1484775488</td>\n",
       "      <td>2017-01-18</td>\n",
       "      <td>18.0</td>\n",
       "      <td>105.0</td>\n",
       "      <td>-87.0</td>\n",
       "    </tr>\n",
       "    <tr>\n",
       "      <th>226</th>\n",
       "      <td>00f6480332</td>\n",
       "      <td>2.0</td>\n",
       "      <td>118</td>\n",
       "      <td>1484281508</td>\n",
       "      <td>1484281626</td>\n",
       "      <td>2017-01-13</td>\n",
       "      <td>13.0</td>\n",
       "      <td>105.0</td>\n",
       "      <td>-92.0</td>\n",
       "    </tr>\n",
       "    <tr>\n",
       "      <th>278</th>\n",
       "      <td>00f6480332</td>\n",
       "      <td>1.0</td>\n",
       "      <td>89</td>\n",
       "      <td>1485390415</td>\n",
       "      <td>1485390504</td>\n",
       "      <td>2017-01-26</td>\n",
       "      <td>26.0</td>\n",
       "      <td>105.0</td>\n",
       "      <td>-79.0</td>\n",
       "    </tr>\n",
       "    <tr>\n",
       "      <th>420</th>\n",
       "      <td>00f6480332</td>\n",
       "      <td>12.0</td>\n",
       "      <td>88</td>\n",
       "      <td>1485022078</td>\n",
       "      <td>1485022166</td>\n",
       "      <td>2017-01-21</td>\n",
       "      <td>21.0</td>\n",
       "      <td>105.0</td>\n",
       "      <td>-84.0</td>\n",
       "    </tr>\n",
       "    <tr>\n",
       "      <th>446</th>\n",
       "      <td>00f6480332</td>\n",
       "      <td>12.0</td>\n",
       "      <td>115</td>\n",
       "      <td>1483290646</td>\n",
       "      <td>1483290761</td>\n",
       "      <td>2017-01-01</td>\n",
       "      <td>1.0</td>\n",
       "      <td>105.0</td>\n",
       "      <td>-104.0</td>\n",
       "    </tr>\n",
       "  </tbody>\n",
       "</table>\n",
       "</div>"
      ],
      "text/plain": [
       "             id  session_number  session_length  session_start_time  \\\n",
       "167  00f6480332            16.0               0          1484775488   \n",
       "226  00f6480332             2.0             118          1484281508   \n",
       "278  00f6480332             1.0              89          1485390415   \n",
       "420  00f6480332            12.0              88          1485022078   \n",
       "446  00f6480332            12.0             115          1483290646   \n",
       "\n",
       "     session_end_time     actdate  actday  regday  days_after_reg  \n",
       "167        1484775488  2017-01-18    18.0   105.0           -87.0  \n",
       "226        1484281626  2017-01-13    13.0   105.0           -92.0  \n",
       "278        1485390504  2017-01-26    26.0   105.0           -79.0  \n",
       "420        1485022166  2017-01-21    21.0   105.0           -84.0  \n",
       "446        1483290761  2017-01-01     1.0   105.0          -104.0  "
      ]
     },
     "execution_count": 20,
     "metadata": {},
     "output_type": "execute_result"
    }
   ],
   "source": [
    "payers_regday_test = df_test.loc[df_test.id.isin(payers_id_test), :].groupby(\"id\")[\"regday\"].first()\n",
    "payers_session_test = sessions.loc[sessions.id.isin(payers_id_test)]\n",
    "payers_session_test = payers_session_test.join(payers_regday_test, on=\"id\")\n",
    "payers_session_test[\"days_after_reg\"] = payers_session_test.actday - payers_session_test.regday\n",
    "payers_session_test.head()"
   ]
  },
  {
   "cell_type": "code",
   "execution_count": 21,
   "metadata": {
    "collapsed": false
   },
   "outputs": [],
   "source": [
    "# сессии платящих игроков в течение первых 30 после регистрации\n",
    "month_payers_session_test = payers_session_test.loc[payers_session_test.days_after_reg < 30, :]\n",
    "grouped_test = pd.DataFrame(month_payers_session_test.groupby([\"id\", \"days_after_reg\"]).session_length.sum()).reset_index()\n",
    "grouped_test = grouped_test.groupby(\"id\")"
   ]
  },
  {
   "cell_type": "code",
   "execution_count": 22,
   "metadata": {
    "collapsed": true
   },
   "outputs": [],
   "source": [
    "n_days = 30\n",
    "payers_session_ts = get_time_series_dataset(grouped_dataset=grouped, group_id=payers_id, feature=\"session_length\", period_feature=\"days_after_reg\", n_days=n_days)\n",
    "payers_session_ts_test = get_time_series_dataset(grouped_dataset=grouped_test, group_id=payers_id_test, feature=\"session_length\", period_feature=\"days_after_reg\", n_days=n_days)"
   ]
  },
  {
   "cell_type": "code",
   "execution_count": null,
   "metadata": {
    "collapsed": true
   },
   "outputs": [],
   "source": []
  },
  {
   "cell_type": "code",
   "execution_count": 23,
   "metadata": {
    "collapsed": true
   },
   "outputs": [],
   "source": [
    "# коэффициенты регрессий по временным рядам (по значениям признаков в первые 7 дней)"
   ]
  },
  {
   "cell_type": "code",
   "execution_count": 24,
   "metadata": {
    "collapsed": true
   },
   "outputs": [],
   "source": [
    "def get_lr_coefs(time_series, n_train_days, start_day=0, prefix=\"lr_\", with_nan=False, feature_func=None):\n",
    "    n_obj = time_series.shape[0]\n",
    "    lr_coefs = np.zeros((n_obj, 2))\n",
    "    for i in range(n_obj):\n",
    "        lr = LinearRegression()\n",
    "        Xi = np.arange(start_day, n_train_days).reshape(-1, 1)\n",
    "        if feature_func is not None:\n",
    "            Xi = feature_func(Xi)\n",
    "        yi = time_series.iloc[i, start_day:n_train_days].values\n",
    "        if with_nan:\n",
    "            yi = yi[np.logical_not(np.isnan(yi))]\n",
    "            Xi = np.arange(0, yi.size).reshape(-1, 1)\n",
    "        lr.fit(Xi, yi)\n",
    "        lr_coefs[i] = [lr.intercept_] + lr.coef_.tolist()\n",
    "    col = list(map(lambda x: prefix + str(x), np.arange(2)))\n",
    "    lr_coefs = pd.DataFrame(lr_coefs, index=time_series.index, columns=col)\n",
    "    return lr_coefs"
   ]
  },
  {
   "cell_type": "code",
   "execution_count": 25,
   "metadata": {
    "collapsed": false
   },
   "outputs": [],
   "source": [
    "n_train_days = 7\n",
    "sessions_lr_coefs = get_lr_coefs(payers_session_ts, n_train_days=7, start_day=0, prefix=\"sessions_lr_\")\n",
    "sessions_lr_coefs_test = get_lr_coefs(payers_session_ts_test, n_train_days=7, start_day=0, prefix=\"sessions_lr_\")\n",
    "\n",
    "revenue_lr_coefs = get_lr_coefs(payers_revenue_ts, n_train_days=7, start_day=0, prefix=\"revenue_lr_\")\n",
    "revenue_lr_coefs_test = get_lr_coefs(payers_revenue_ts_test, n_train_days=7, start_day=0, prefix=\"revenue_lr_\")\n",
    "\n",
    "all_quests_lr_coefs = get_lr_coefs(payers_all_quests_ts, n_train_days=7, start_day=0, prefix=\"all_quests_lr_\")\n",
    "all_quests_lr_coefs_test = get_lr_coefs(payers_all_quests_ts_test, n_train_days=7, start_day=0, prefix=\"all_quests_lr_\")"
   ]
  },
  {
   "cell_type": "code",
   "execution_count": null,
   "metadata": {
    "collapsed": true
   },
   "outputs": [],
   "source": []
  },
  {
   "cell_type": "code",
   "execution_count": 26,
   "metadata": {
    "collapsed": true
   },
   "outputs": [],
   "source": [
    "# коэффициенты регрессий для отношений признаков"
   ]
  },
  {
   "cell_type": "code",
   "execution_count": 27,
   "metadata": {
    "collapsed": true
   },
   "outputs": [],
   "source": [
    "revenue_all_quests_lr_coefs = get_lr_coefs((payers_revenue_ts / (payers_all_quests_ts + 1)), n_train_days=7, start_day=0, prefix=\"revenue/all_quests_lr_\")\n",
    "revenue_all_quests_lr_coefs_test = get_lr_coefs((payers_revenue_ts_test / (payers_all_quests_ts_test + 1)), n_train_days=7, start_day=0, prefix=\"revenue/all_quests_lr_\")\n",
    "\n",
    "all_quests_revenue_lr_coefs = get_lr_coefs((payers_all_quests_ts / (payers_revenue_ts + 1)), n_train_days=7, start_day=0, prefix=\"all_quests/revenue_lr_\")\n",
    "all_quests_revenue_lr_coefs_test = get_lr_coefs((payers_all_quests_ts_test / (payers_revenue_ts_test + 1)), n_train_days=7, start_day=0, prefix=\"all_quests/revenue_lr_\")\n",
    "\n",
    "revenue_sessions_lr_coefs = get_lr_coefs((payers_revenue_ts / (payers_session_ts.values + 1)), n_train_days=7, start_day=0, prefix=\"revenue/sessions_lr_\")\n",
    "revenue_sessions_lr_coefs_test = get_lr_coefs((payers_revenue_ts_test / (payers_session_ts_test.values + 1)), n_train_days=7, start_day=0, prefix=\"revenue/sessions_lr_\")\n",
    "\n",
    "all_quests_sessions_lr_coefs = get_lr_coefs((payers_all_quests_ts / (payers_session_ts.values + 1)), n_train_days=7, start_day=0, prefix=\"all_quests/sessions_lr_\")\n",
    "all_quests_sessions_lr_coefs_test = get_lr_coefs((payers_all_quests_ts_test / (payers_session_ts_test.values + 1)), n_train_days=7, start_day=0, prefix=\"all_quests/sessions_lr_\")"
   ]
  },
  {
   "cell_type": "code",
   "execution_count": null,
   "metadata": {
    "collapsed": true
   },
   "outputs": [],
   "source": []
  },
  {
   "cell_type": "code",
   "execution_count": 28,
   "metadata": {
    "collapsed": true
   },
   "outputs": [],
   "source": [
    "# число посещений за 7 дней"
   ]
  },
  {
   "cell_type": "code",
   "execution_count": 29,
   "metadata": {
    "collapsed": true
   },
   "outputs": [],
   "source": [
    "payers_session[\"visit\"] = np.ones(payers_session.shape[0])\n",
    "payers_session_test[\"visit\"] = np.ones(payers_session_test.shape[0])"
   ]
  },
  {
   "cell_type": "code",
   "execution_count": 30,
   "metadata": {
    "collapsed": true
   },
   "outputs": [],
   "source": [
    "grouped = pd.DataFrame(payers_session.groupby([\"id\", \"days_after_reg\"]).sum()).reset_index()\n",
    "grouped = grouped.groupby(\"id\")\n",
    "grouped_test = pd.DataFrame(payers_session_test.groupby([\"id\", \"days_after_reg\"]).sum()).reset_index()\n",
    "grouped_test = grouped_test.groupby(\"id\")"
   ]
  },
  {
   "cell_type": "code",
   "execution_count": 31,
   "metadata": {
    "collapsed": true
   },
   "outputs": [],
   "source": [
    "n_days = 30\n",
    "payers_visit_ts = get_time_series_dataset(grouped_dataset=grouped, group_id=payers_id, feature=\"visit\", period_feature=\"days_after_reg\", n_days=n_days)\n",
    "payers_visit_ts_test = get_time_series_dataset(grouped_dataset=grouped_test, group_id=payers_id_test, feature=\"visit\", period_feature=\"days_after_reg\", n_days=n_days)"
   ]
  },
  {
   "cell_type": "code",
   "execution_count": 32,
   "metadata": {
    "collapsed": true
   },
   "outputs": [],
   "source": [
    "# число дней, когда пользователь заходил в игру"
   ]
  },
  {
   "cell_type": "code",
   "execution_count": 33,
   "metadata": {
    "collapsed": true
   },
   "outputs": [],
   "source": [
    "payers_visit_nan_ts = get_time_series_dataset(grouped_dataset=grouped, group_id=payers_id, feature=\"visit\", period_feature=\"days_after_reg\", n_days=n_days, with_nan=True)\n",
    "payers_visit_nan_ts_test = get_time_series_dataset(grouped_dataset=grouped_test, group_id=payers_id_test, feature=\"visit\", period_feature=\"days_after_reg\", n_days=n_days, with_nan=True)\n",
    "\n",
    "payers_visit_days_ts = payers_visit_nan_ts.notnull()\n",
    "payers_visit_days_ts_test = payers_visit_nan_ts_test.notnull()"
   ]
  },
  {
   "cell_type": "code",
   "execution_count": 34,
   "metadata": {
    "collapsed": true
   },
   "outputs": [],
   "source": [
    "# число оплат за 7 дней"
   ]
  },
  {
   "cell_type": "code",
   "execution_count": 35,
   "metadata": {
    "collapsed": true
   },
   "outputs": [],
   "source": [
    "grouped = pd.DataFrame(df.groupby([\"id\", \"days_after_reg\"]).sum()).reset_index()\n",
    "grouped = grouped.groupby(\"id\")\n",
    "grouped_test = pd.DataFrame(df_test.groupby([\"id\", \"days_after_reg\"]).sum()).reset_index()\n",
    "grouped_test = grouped_test.groupby(\"id\")"
   ]
  },
  {
   "cell_type": "code",
   "execution_count": 36,
   "metadata": {
    "collapsed": false
   },
   "outputs": [],
   "source": [
    "n_days = 30\n",
    "payers_transactions_ts = get_time_series_dataset(grouped_dataset=grouped, group_id=payers_id, feature=\"transactions\", period_feature=\"days_after_reg\", n_days=n_days)\n",
    "payers_transactions_ts_test = get_time_series_dataset(grouped_dataset=grouped_test, group_id=payers_id_test, feature=\"transactions\", period_feature=\"days_after_reg\", n_days=n_days)"
   ]
  },
  {
   "cell_type": "code",
   "execution_count": null,
   "metadata": {
    "collapsed": true
   },
   "outputs": [],
   "source": []
  },
  {
   "cell_type": "code",
   "execution_count": 37,
   "metadata": {
    "collapsed": true
   },
   "outputs": [],
   "source": [
    "# 10 самых популярных стран"
   ]
  },
  {
   "cell_type": "code",
   "execution_count": 38,
   "metadata": {
    "collapsed": true
   },
   "outputs": [],
   "source": [
    "payers_dau = dau[dau.id.isin(payers_id)]\n",
    "payers_dau_test = dau[dau.id.isin(payers_id_test)]"
   ]
  },
  {
   "cell_type": "code",
   "execution_count": 39,
   "metadata": {
    "collapsed": true
   },
   "outputs": [],
   "source": [
    "payers_dau.country.fillna(\"__\", inplace=True)\n",
    "payers_dau_test.country.fillna(\"__\", inplace=True)"
   ]
  },
  {
   "cell_type": "code",
   "execution_count": 40,
   "metadata": {
    "collapsed": true
   },
   "outputs": [],
   "source": [
    "payers_country = pd.Series(payers_dau.groupby(\"id\").country.first())\n",
    "payers_country_test = pd.Series(payers_dau_test.groupby(\"id\").country.first())"
   ]
  },
  {
   "cell_type": "code",
   "execution_count": 41,
   "metadata": {
    "collapsed": true
   },
   "outputs": [],
   "source": [
    "top_countries = payers_country.value_counts()"
   ]
  },
  {
   "cell_type": "code",
   "execution_count": 42,
   "metadata": {
    "collapsed": true
   },
   "outputs": [],
   "source": [
    "l_enc = LabelEncoder()\n",
    "payers_dau.country = l_enc.fit_transform(payers_dau.country)\n",
    "payers_dau_test.loc[np.logical_not(payers_dau_test.country.isin(l_enc.classes_)), \"country\"] = \"__\"\n",
    "payers_dau_test.country = l_enc.transform(payers_dau_test.country)"
   ]
  },
  {
   "cell_type": "code",
   "execution_count": 43,
   "metadata": {
    "collapsed": true
   },
   "outputs": [],
   "source": [
    "oh_enc = OneHotEncoder(sparse=False)\n",
    "payers_country = pd.DataFrame(oh_enc.fit_transform(payers_dau.country.values.reshape(-1, 1)),\n",
    "                              columns=l_enc.classes_, index=payers_dau.index)\n",
    "payers_country_test = pd.DataFrame(oh_enc.transform(payers_dau_test.country.values.reshape(-1, 1)),\n",
    "                              columns=l_enc.classes_, index=payers_dau_test.index)"
   ]
  },
  {
   "cell_type": "code",
   "execution_count": 44,
   "metadata": {
    "collapsed": true
   },
   "outputs": [],
   "source": [
    "payers_dau = pd.concat((payers_dau, payers_country), axis=1)\n",
    "payers_country = pd.DataFrame(payers_dau.groupby(\"id\")[payers_dau.columns[5:]].any(), dtype=int)\n",
    "payers_dau_test = pd.concat((payers_dau_test, payers_country_test), axis=1)\n",
    "payers_country_test = pd.DataFrame(payers_dau_test.groupby(\"id\")[payers_dau_test.columns[5:]].any(), dtype=int)"
   ]
  },
  {
   "cell_type": "code",
   "execution_count": null,
   "metadata": {
    "collapsed": true
   },
   "outputs": [],
   "source": []
  },
  {
   "cell_type": "code",
   "execution_count": 45,
   "metadata": {
    "collapsed": true
   },
   "outputs": [],
   "source": [
    "# модель"
   ]
  },
  {
   "cell_type": "code",
   "execution_count": 46,
   "metadata": {
    "collapsed": true
   },
   "outputs": [],
   "source": [
    "def rmse(y_true, y_pred):\n",
    "    return np.sqrt(mean_squared_error(y_true, y_pred))"
   ]
  },
  {
   "cell_type": "code",
   "execution_count": 47,
   "metadata": {
    "collapsed": true
   },
   "outputs": [],
   "source": [
    "def train_model(X, y, X_test, y_test, model):\n",
    "    model.fit(X, y)\n",
    "    y_pred = model.predict(X)\n",
    "    y_pred_test = model.predict(X_test)\n",
    "    return model, y_pred, y_pred_test"
   ]
  },
  {
   "cell_type": "code",
   "execution_count": 68,
   "metadata": {
    "collapsed": false
   },
   "outputs": [
    {
     "data": {
      "text/html": [
       "<div>\n",
       "<table border=\"1\" class=\"dataframe\">\n",
       "  <thead>\n",
       "    <tr style=\"text-align: right;\">\n",
       "      <th></th>\n",
       "      <th>sessions_lr_0</th>\n",
       "      <th>sessions_lr_1</th>\n",
       "      <th>all_quests_lr_0</th>\n",
       "      <th>all_quests_lr_1</th>\n",
       "      <th>revenue_lr_0</th>\n",
       "      <th>revenue_lr_1</th>\n",
       "      <th>revenue/all_quests_lr_0</th>\n",
       "      <th>revenue/all_quests_lr_1</th>\n",
       "      <th>revenue/sessions_lr_0</th>\n",
       "      <th>revenue/sessions_lr_1</th>\n",
       "      <th>...</th>\n",
       "      <th>CH</th>\n",
       "      <th>RU</th>\n",
       "      <th>CA</th>\n",
       "      <th>SE</th>\n",
       "      <th>SG</th>\n",
       "      <th>visit_days7</th>\n",
       "      <th>visit_days7_2</th>\n",
       "      <th>revenue/visit_days7</th>\n",
       "      <th>visit_days/revenue7</th>\n",
       "      <th>revenue||visit_days7</th>\n",
       "    </tr>\n",
       "    <tr>\n",
       "      <th>id</th>\n",
       "      <th></th>\n",
       "      <th></th>\n",
       "      <th></th>\n",
       "      <th></th>\n",
       "      <th></th>\n",
       "      <th></th>\n",
       "      <th></th>\n",
       "      <th></th>\n",
       "      <th></th>\n",
       "      <th></th>\n",
       "      <th></th>\n",
       "      <th></th>\n",
       "      <th></th>\n",
       "      <th></th>\n",
       "      <th></th>\n",
       "      <th></th>\n",
       "      <th></th>\n",
       "      <th></th>\n",
       "      <th></th>\n",
       "      <th></th>\n",
       "      <th></th>\n",
       "    </tr>\n",
       "  </thead>\n",
       "  <tbody>\n",
       "    <tr>\n",
       "      <th>0001a94437</th>\n",
       "      <td>2959.107143</td>\n",
       "      <td>-199.750000</td>\n",
       "      <td>36.392857</td>\n",
       "      <td>-4.464286</td>\n",
       "      <td>120.355714</td>\n",
       "      <td>-2.525871e-16</td>\n",
       "      <td>15.044464</td>\n",
       "      <td>-3.157339e-17</td>\n",
       "      <td>0.126424</td>\n",
       "      <td>-1.337399e-18</td>\n",
       "      <td>...</td>\n",
       "      <td>0</td>\n",
       "      <td>0</td>\n",
       "      <td>0</td>\n",
       "      <td>0</td>\n",
       "      <td>0</td>\n",
       "      <td>7</td>\n",
       "      <td>49</td>\n",
       "      <td>105.31125</td>\n",
       "      <td>0.008299</td>\n",
       "      <td>0.476140</td>\n",
       "    </tr>\n",
       "    <tr>\n",
       "      <th>00166affd5</th>\n",
       "      <td>5078.785714</td>\n",
       "      <td>-905.357143</td>\n",
       "      <td>84.000000</td>\n",
       "      <td>-16.000000</td>\n",
       "      <td>3872.050000</td>\n",
       "      <td>-8.935500e+02</td>\n",
       "      <td>27.461348</td>\n",
       "      <td>-6.337234e+00</td>\n",
       "      <td>0.447947</td>\n",
       "      <td>-1.033723e-01</td>\n",
       "      <td>...</td>\n",
       "      <td>0</td>\n",
       "      <td>0</td>\n",
       "      <td>0</td>\n",
       "      <td>0</td>\n",
       "      <td>0</td>\n",
       "      <td>7</td>\n",
       "      <td>49</td>\n",
       "      <td>1042.47500</td>\n",
       "      <td>0.000839</td>\n",
       "      <td>0.635740</td>\n",
       "    </tr>\n",
       "    <tr>\n",
       "      <th>00196c3ade</th>\n",
       "      <td>2498.964286</td>\n",
       "      <td>-487.892857</td>\n",
       "      <td>34.928571</td>\n",
       "      <td>-6.928571</td>\n",
       "      <td>1061.622500</td>\n",
       "      <td>-1.516604e+02</td>\n",
       "      <td>66.351406</td>\n",
       "      <td>-9.478772e+00</td>\n",
       "      <td>0.765409</td>\n",
       "      <td>-1.093442e-01</td>\n",
       "      <td>...</td>\n",
       "      <td>0</td>\n",
       "      <td>0</td>\n",
       "      <td>0</td>\n",
       "      <td>0</td>\n",
       "      <td>0</td>\n",
       "      <td>3</td>\n",
       "      <td>9</td>\n",
       "      <td>1061.62250</td>\n",
       "      <td>0.000706</td>\n",
       "      <td>-1.609188</td>\n",
       "    </tr>\n",
       "    <tr>\n",
       "      <th>00286111e8</th>\n",
       "      <td>3177.571429</td>\n",
       "      <td>-733.285714</td>\n",
       "      <td>38.071429</td>\n",
       "      <td>-8.785714</td>\n",
       "      <td>7894.240714</td>\n",
       "      <td>-1.821748e+03</td>\n",
       "      <td>95.111334</td>\n",
       "      <td>-2.194877e+01</td>\n",
       "      <td>1.153286</td>\n",
       "      <td>-2.661429e-01</td>\n",
       "      <td>...</td>\n",
       "      <td>0</td>\n",
       "      <td>0</td>\n",
       "      <td>0</td>\n",
       "      <td>0</td>\n",
       "      <td>0</td>\n",
       "      <td>1</td>\n",
       "      <td>1</td>\n",
       "      <td>8501.49000</td>\n",
       "      <td>0.000059</td>\n",
       "      <td>-2.416529</td>\n",
       "    </tr>\n",
       "    <tr>\n",
       "      <th>003693070b</th>\n",
       "      <td>7395.142857</td>\n",
       "      <td>-658.428571</td>\n",
       "      <td>102.250000</td>\n",
       "      <td>-12.607143</td>\n",
       "      <td>9665.232500</td>\n",
       "      <td>-5.151589e+02</td>\n",
       "      <td>54.199175</td>\n",
       "      <td>1.887746e+01</td>\n",
       "      <td>1.008770</td>\n",
       "      <td>8.082610e-02</td>\n",
       "      <td>...</td>\n",
       "      <td>0</td>\n",
       "      <td>0</td>\n",
       "      <td>0</td>\n",
       "      <td>0</td>\n",
       "      <td>0</td>\n",
       "      <td>7</td>\n",
       "      <td>49</td>\n",
       "      <td>7104.78625</td>\n",
       "      <td>0.000123</td>\n",
       "      <td>1.668153</td>\n",
       "    </tr>\n",
       "  </tbody>\n",
       "</table>\n",
       "<p>5 rows × 30 columns</p>\n",
       "</div>"
      ],
      "text/plain": [
       "            sessions_lr_0  sessions_lr_1  all_quests_lr_0  all_quests_lr_1  \\\n",
       "id                                                                           \n",
       "0001a94437    2959.107143    -199.750000        36.392857        -4.464286   \n",
       "00166affd5    5078.785714    -905.357143        84.000000       -16.000000   \n",
       "00196c3ade    2498.964286    -487.892857        34.928571        -6.928571   \n",
       "00286111e8    3177.571429    -733.285714        38.071429        -8.785714   \n",
       "003693070b    7395.142857    -658.428571       102.250000       -12.607143   \n",
       "\n",
       "            revenue_lr_0  revenue_lr_1  revenue/all_quests_lr_0  \\\n",
       "id                                                                \n",
       "0001a94437    120.355714 -2.525871e-16                15.044464   \n",
       "00166affd5   3872.050000 -8.935500e+02                27.461348   \n",
       "00196c3ade   1061.622500 -1.516604e+02                66.351406   \n",
       "00286111e8   7894.240714 -1.821748e+03                95.111334   \n",
       "003693070b   9665.232500 -5.151589e+02                54.199175   \n",
       "\n",
       "            revenue/all_quests_lr_1  revenue/sessions_lr_0  \\\n",
       "id                                                           \n",
       "0001a94437            -3.157339e-17               0.126424   \n",
       "00166affd5            -6.337234e+00               0.447947   \n",
       "00196c3ade            -9.478772e+00               0.765409   \n",
       "00286111e8            -2.194877e+01               1.153286   \n",
       "003693070b             1.887746e+01               1.008770   \n",
       "\n",
       "            revenue/sessions_lr_1          ...           CH  RU  CA  SE  SG  \\\n",
       "id                                         ...                                \n",
       "0001a94437          -1.337399e-18          ...            0   0   0   0   0   \n",
       "00166affd5          -1.033723e-01          ...            0   0   0   0   0   \n",
       "00196c3ade          -1.093442e-01          ...            0   0   0   0   0   \n",
       "00286111e8          -2.661429e-01          ...            0   0   0   0   0   \n",
       "003693070b           8.082610e-02          ...            0   0   0   0   0   \n",
       "\n",
       "            visit_days7  visit_days7_2  revenue/visit_days7  \\\n",
       "id                                                            \n",
       "0001a94437            7             49            105.31125   \n",
       "00166affd5            7             49           1042.47500   \n",
       "00196c3ade            3              9           1061.62250   \n",
       "00286111e8            1              1           8501.49000   \n",
       "003693070b            7             49           7104.78625   \n",
       "\n",
       "            visit_days/revenue7  revenue||visit_days7  \n",
       "id                                                     \n",
       "0001a94437             0.008299              0.476140  \n",
       "00166affd5             0.000839              0.635740  \n",
       "00196c3ade             0.000706             -1.609188  \n",
       "00286111e8             0.000059             -2.416529  \n",
       "003693070b             0.000123              1.668153  \n",
       "\n",
       "[5 rows x 30 columns]"
      ]
     },
     "execution_count": 68,
     "metadata": {},
     "output_type": "execute_result"
    }
   ],
   "source": [
    "# коэффициенты регрессий по временным рядам\n",
    "X1 = sessions_lr_coefs.join(all_quests_lr_coefs).join(revenue_lr_coefs)\n",
    "\n",
    "# коэффициенты регрессий для отношений признаков\n",
    "X1 = X1.join(revenue_all_quests_lr_coefs).join(revenue_sessions_lr_coefs)\n",
    "X1 = X1.join(all_quests_revenue_lr_coefs).join(all_quests_sessions_lr_coefs)\n",
    "\n",
    "# число оплат за 7 дней\n",
    "X1[\"transactions7\"] = payers_transactions_ts.iloc[:, :7].sum(axis=1)\n",
    "\n",
    "# 10 самых популярных стран\n",
    "X1 = X1.join(payers_country[top_countries[:10].index])\n",
    "\n",
    "# число дней посещений за 7 дней\n",
    "X1[\"visit_days7\"] = payers_visit_days_ts.iloc[:, :7].sum(axis=1)\n",
    "X1[\"visit_days7_2\"] = payers_visit_days_ts.iloc[:, :7].sum(axis=1) ** 2\n",
    "\n",
    "# суммарный доход / число посещений\n",
    "X1[\"revenue/visit_days7\"] = payers_revenue_ts.iloc[:, :7].sum(axis=1) / (payers_visit_days_ts.iloc[:, :7].sum(axis=1) + 1)\n",
    "X1[\"visit_days/revenue7\"] = payers_visit_days_ts.iloc[:, :7].sum(axis=1) / (payers_revenue_ts.iloc[:, :7].sum(axis=1) + 1)\n",
    "\n",
    "\n",
    "X1[\"revenue||visit_days7\"] = StandardScaler().fit_transform(payers_revenue_ts.iloc[:, :7].sum(axis=1)) \\\n",
    "+ StandardScaler().fit_transform(payers_visit_days_ts.iloc[:, :7].sum(axis=1))\n",
    "\n",
    "X1.head()"
   ]
  },
  {
   "cell_type": "code",
   "execution_count": 69,
   "metadata": {
    "collapsed": false
   },
   "outputs": [
    {
     "data": {
      "text/html": [
       "<div>\n",
       "<table border=\"1\" class=\"dataframe\">\n",
       "  <thead>\n",
       "    <tr style=\"text-align: right;\">\n",
       "      <th></th>\n",
       "      <th>sessions_lr_0</th>\n",
       "      <th>sessions_lr_1</th>\n",
       "      <th>all_quests_lr_0</th>\n",
       "      <th>all_quests_lr_1</th>\n",
       "      <th>revenue_lr_0</th>\n",
       "      <th>revenue_lr_1</th>\n",
       "      <th>revenue/all_quests_lr_0</th>\n",
       "      <th>revenue/all_quests_lr_1</th>\n",
       "      <th>revenue/sessions_lr_0</th>\n",
       "      <th>revenue/sessions_lr_1</th>\n",
       "      <th>...</th>\n",
       "      <th>CH</th>\n",
       "      <th>RU</th>\n",
       "      <th>CA</th>\n",
       "      <th>SE</th>\n",
       "      <th>SG</th>\n",
       "      <th>visit_days7</th>\n",
       "      <th>visit_days7_2</th>\n",
       "      <th>revenue/visit_days7</th>\n",
       "      <th>visit_days/revenue7</th>\n",
       "      <th>revenue||visit_days7</th>\n",
       "    </tr>\n",
       "    <tr>\n",
       "      <th>id</th>\n",
       "      <th></th>\n",
       "      <th></th>\n",
       "      <th></th>\n",
       "      <th></th>\n",
       "      <th></th>\n",
       "      <th></th>\n",
       "      <th></th>\n",
       "      <th></th>\n",
       "      <th></th>\n",
       "      <th></th>\n",
       "      <th></th>\n",
       "      <th></th>\n",
       "      <th></th>\n",
       "      <th></th>\n",
       "      <th></th>\n",
       "      <th></th>\n",
       "      <th></th>\n",
       "      <th></th>\n",
       "      <th></th>\n",
       "      <th></th>\n",
       "      <th></th>\n",
       "    </tr>\n",
       "  </thead>\n",
       "  <tbody>\n",
       "    <tr>\n",
       "      <th>0070e26ea8</th>\n",
       "      <td>92.178571</td>\n",
       "      <td>-21.250000</td>\n",
       "      <td>1.857143</td>\n",
       "      <td>-0.428571</td>\n",
       "      <td>0.000000</td>\n",
       "      <td>0.000000</td>\n",
       "      <td>0.000000</td>\n",
       "      <td>0.000000</td>\n",
       "      <td>0.000000</td>\n",
       "      <td>0.000000</td>\n",
       "      <td>...</td>\n",
       "      <td>0</td>\n",
       "      <td>0</td>\n",
       "      <td>0</td>\n",
       "      <td>0</td>\n",
       "      <td>0</td>\n",
       "      <td>2</td>\n",
       "      <td>4</td>\n",
       "      <td>0.0000</td>\n",
       "      <td>2.000000</td>\n",
       "      <td>-2.192734</td>\n",
       "    </tr>\n",
       "    <tr>\n",
       "      <th>0078182127</th>\n",
       "      <td>4811.892857</td>\n",
       "      <td>-374.535714</td>\n",
       "      <td>82.892857</td>\n",
       "      <td>-9.964286</td>\n",
       "      <td>37463.147500</td>\n",
       "      <td>-6476.413929</td>\n",
       "      <td>527.524200</td>\n",
       "      <td>-94.752665</td>\n",
       "      <td>8.667166</td>\n",
       "      <td>-1.617204</td>\n",
       "      <td>...</td>\n",
       "      <td>0</td>\n",
       "      <td>0</td>\n",
       "      <td>0</td>\n",
       "      <td>0</td>\n",
       "      <td>1</td>\n",
       "      <td>7</td>\n",
       "      <td>49</td>\n",
       "      <td>15779.6675</td>\n",
       "      <td>0.000055</td>\n",
       "      <td>3.901038</td>\n",
       "    </tr>\n",
       "    <tr>\n",
       "      <th>008376e7a9</th>\n",
       "      <td>5157.964286</td>\n",
       "      <td>-1170.750000</td>\n",
       "      <td>62.821429</td>\n",
       "      <td>-14.321429</td>\n",
       "      <td>3291.546429</td>\n",
       "      <td>-658.309286</td>\n",
       "      <td>193.620378</td>\n",
       "      <td>-38.724076</td>\n",
       "      <td>2.201703</td>\n",
       "      <td>-0.440341</td>\n",
       "      <td>...</td>\n",
       "      <td>0</td>\n",
       "      <td>0</td>\n",
       "      <td>0</td>\n",
       "      <td>0</td>\n",
       "      <td>0</td>\n",
       "      <td>3</td>\n",
       "      <td>9</td>\n",
       "      <td>2304.0825</td>\n",
       "      <td>0.000325</td>\n",
       "      <td>-1.410533</td>\n",
       "    </tr>\n",
       "    <tr>\n",
       "      <th>00842acbab</th>\n",
       "      <td>1927.321429</td>\n",
       "      <td>-247.250000</td>\n",
       "      <td>33.642857</td>\n",
       "      <td>-5.214286</td>\n",
       "      <td>0.000000</td>\n",
       "      <td>0.000000</td>\n",
       "      <td>0.000000</td>\n",
       "      <td>0.000000</td>\n",
       "      <td>0.000000</td>\n",
       "      <td>0.000000</td>\n",
       "      <td>...</td>\n",
       "      <td>0</td>\n",
       "      <td>0</td>\n",
       "      <td>0</td>\n",
       "      <td>0</td>\n",
       "      <td>0</td>\n",
       "      <td>6</td>\n",
       "      <td>36</td>\n",
       "      <td>0.0000</td>\n",
       "      <td>6.000000</td>\n",
       "      <td>-0.067830</td>\n",
       "    </tr>\n",
       "    <tr>\n",
       "      <th>0087035c32</th>\n",
       "      <td>2294.285714</td>\n",
       "      <td>-271.142857</td>\n",
       "      <td>32.964286</td>\n",
       "      <td>-5.750000</td>\n",
       "      <td>0.000000</td>\n",
       "      <td>0.000000</td>\n",
       "      <td>0.000000</td>\n",
       "      <td>0.000000</td>\n",
       "      <td>0.000000</td>\n",
       "      <td>0.000000</td>\n",
       "      <td>...</td>\n",
       "      <td>0</td>\n",
       "      <td>0</td>\n",
       "      <td>0</td>\n",
       "      <td>0</td>\n",
       "      <td>0</td>\n",
       "      <td>5</td>\n",
       "      <td>25</td>\n",
       "      <td>0.0000</td>\n",
       "      <td>5.000000</td>\n",
       "      <td>-0.599056</td>\n",
       "    </tr>\n",
       "  </tbody>\n",
       "</table>\n",
       "<p>5 rows × 30 columns</p>\n",
       "</div>"
      ],
      "text/plain": [
       "            sessions_lr_0  sessions_lr_1  all_quests_lr_0  all_quests_lr_1  \\\n",
       "id                                                                           \n",
       "0070e26ea8      92.178571     -21.250000         1.857143        -0.428571   \n",
       "0078182127    4811.892857    -374.535714        82.892857        -9.964286   \n",
       "008376e7a9    5157.964286   -1170.750000        62.821429       -14.321429   \n",
       "00842acbab    1927.321429    -247.250000        33.642857        -5.214286   \n",
       "0087035c32    2294.285714    -271.142857        32.964286        -5.750000   \n",
       "\n",
       "            revenue_lr_0  revenue_lr_1  revenue/all_quests_lr_0  \\\n",
       "id                                                                \n",
       "0070e26ea8      0.000000      0.000000                 0.000000   \n",
       "0078182127  37463.147500  -6476.413929               527.524200   \n",
       "008376e7a9   3291.546429   -658.309286               193.620378   \n",
       "00842acbab      0.000000      0.000000                 0.000000   \n",
       "0087035c32      0.000000      0.000000                 0.000000   \n",
       "\n",
       "            revenue/all_quests_lr_1  revenue/sessions_lr_0  \\\n",
       "id                                                           \n",
       "0070e26ea8                 0.000000               0.000000   \n",
       "0078182127               -94.752665               8.667166   \n",
       "008376e7a9               -38.724076               2.201703   \n",
       "00842acbab                 0.000000               0.000000   \n",
       "0087035c32                 0.000000               0.000000   \n",
       "\n",
       "            revenue/sessions_lr_1          ...           CH  RU  CA  SE  SG  \\\n",
       "id                                         ...                                \n",
       "0070e26ea8               0.000000          ...            0   0   0   0   0   \n",
       "0078182127              -1.617204          ...            0   0   0   0   1   \n",
       "008376e7a9              -0.440341          ...            0   0   0   0   0   \n",
       "00842acbab               0.000000          ...            0   0   0   0   0   \n",
       "0087035c32               0.000000          ...            0   0   0   0   0   \n",
       "\n",
       "            visit_days7  visit_days7_2  revenue/visit_days7  \\\n",
       "id                                                            \n",
       "0070e26ea8            2              4               0.0000   \n",
       "0078182127            7             49           15779.6675   \n",
       "008376e7a9            3              9            2304.0825   \n",
       "00842acbab            6             36               0.0000   \n",
       "0087035c32            5             25               0.0000   \n",
       "\n",
       "            visit_days/revenue7  revenue||visit_days7  \n",
       "id                                                     \n",
       "0070e26ea8             2.000000             -2.192734  \n",
       "0078182127             0.000055              3.901038  \n",
       "008376e7a9             0.000325             -1.410533  \n",
       "00842acbab             6.000000             -0.067830  \n",
       "0087035c32             5.000000             -0.599056  \n",
       "\n",
       "[5 rows x 30 columns]"
      ]
     },
     "execution_count": 69,
     "metadata": {},
     "output_type": "execute_result"
    }
   ],
   "source": [
    "# коэффициенты регрессий по временным рядам\n",
    "X1_test = sessions_lr_coefs_test.join(all_quests_lr_coefs_test).join(revenue_lr_coefs_test)\n",
    "\n",
    "# коэффициенты регрессий для отношений признаков\n",
    "X1_test = X1_test.join(revenue_all_quests_lr_coefs_test).join(revenue_sessions_lr_coefs_test)\n",
    "X1_test = X1_test.join(all_quests_revenue_lr_coefs_test).join(all_quests_sessions_lr_coefs_test)\n",
    "\n",
    "# число оплат за 7 дней\n",
    "X1_test[\"transactions7\"] = payers_transactions_ts_test.iloc[:, :7].sum(axis=1)\n",
    "\n",
    "# 10 самых популярных стран\n",
    "X1_test = X1_test.join(payers_country_test[top_countries[:10].index])\n",
    "\n",
    "# число дней посещений за 7 дней\n",
    "X1_test[\"visit_days7\"] = payers_visit_days_ts_test.iloc[:, :7].sum(axis=1)\n",
    "X1_test[\"visit_days7_2\"] = payers_visit_days_ts_test.iloc[:, :7].sum(axis=1) ** 2\n",
    "\n",
    "# суммарный доход / число посещений\n",
    "X1_test[\"revenue/visit_days7\"] = payers_revenue_ts_test.iloc[:, :7].sum(axis=1) / (payers_visit_days_ts_test.iloc[:, :7].sum(axis=1) + 1)\n",
    "X1_test[\"visit_days/revenue7\"] = payers_visit_days_ts_test.iloc[:, :7].sum(axis=1) / (payers_revenue_ts_test.iloc[:, :7].sum(axis=1) + 1)\n",
    "\n",
    "X1_test[\"revenue||visit_days7\"] = StandardScaler().fit_transform(payers_revenue_ts_test.iloc[:, :7].sum(axis=1)) \\\n",
    "+ StandardScaler().fit_transform(payers_visit_days_ts_test.iloc[:, :7].sum(axis=1))\n",
    "\n",
    "X1_test.head()"
   ]
  },
  {
   "cell_type": "code",
   "execution_count": null,
   "metadata": {
    "collapsed": true
   },
   "outputs": [],
   "source": []
  },
  {
   "cell_type": "code",
   "execution_count": null,
   "metadata": {
    "collapsed": true
   },
   "outputs": [],
   "source": [
    "# качество различных моделей"
   ]
  },
  {
   "cell_type": "code",
   "execution_count": 84,
   "metadata": {
    "collapsed": true
   },
   "outputs": [],
   "source": [
    "y1 = y.copy()\n",
    "y1_test = y_test.copy()"
   ]
  },
  {
   "cell_type": "code",
   "execution_count": 85,
   "metadata": {
    "collapsed": true
   },
   "outputs": [],
   "source": [
    "# исключение игроков, которые не платили в течение первой недели\n",
    "X1 = X1[payers_revenue_ts.iloc[:, :7].sum(axis=1) != 0]\n",
    "y1 = y1[payers_revenue_ts.iloc[:, :7].sum(axis=1) != 0]\n",
    "X1_test = X1_test[payers_revenue_ts_test.iloc[:, :7].sum(axis=1) != 0]\n",
    "y1_test = y1_test[payers_revenue_ts_test.iloc[:, :7].sum(axis=1) != 0]"
   ]
  },
  {
   "cell_type": "code",
   "execution_count": 86,
   "metadata": {
    "collapsed": true
   },
   "outputs": [],
   "source": [
    "# ограничение ltv сверху\n",
    "t = 4000\n",
    "y1[y1 > t] = t\n",
    "y1_test[y1_test > t] = t"
   ]
  },
  {
   "cell_type": "code",
   "execution_count": 87,
   "metadata": {
    "collapsed": false
   },
   "outputs": [
    {
     "name": "stdout",
     "output_type": "stream",
     "text": [
      "Предсказание ltv для отдельных игроков\n",
      "R2 0.622199612922 0.631027070626\n",
      "MAE 456.032526365 479.071137421\n",
      "RMSE 690.471723962 711.27748827\n",
      "\n",
      "Предсказание суммарного ltv для игроков, зарегистрировавшихся в один день\n",
      "R2 0.997150998244 0.988086052896\n",
      "MAE 4466.3166554 5439.65666218\n",
      "RMSE 5628.29859654 6451.60008028\n"
     ]
    }
   ],
   "source": [
    "ss = StandardScaler()\n",
    "est = Ridge(alpha=1e0)\n",
    "std_est = Pipeline([(\"std_scaler\", ss), (\"estimator\", est)])\n",
    "\n",
    "std_est, y_pred, y_pred_test = train_model(X=X1, y=y1, X_test=X1_test, y_test=y1_test, model=std_est)\n",
    "\n",
    "print(\"Предсказание ltv для отдельных игроков\")\n",
    "Y = y1.to_frame().join(payers_regday.to_frame())\n",
    "Y[\"pred\"] = y_pred\n",
    "Y_test = y1_test.to_frame().join(payers_regday_test.to_frame())\n",
    "Y_test[\"pred\"] = y_pred_test\n",
    "\n",
    "print(\"R2\", r2_score(Y.revenue, Y.pred), r2_score(Y_test.revenue, Y_test.pred))\n",
    "print(\"MAE\", mean_absolute_error(Y.revenue, Y.pred), mean_absolute_error(Y_test.revenue, Y_test.pred))\n",
    "print(\"RMSE\", rmse(Y.revenue, Y.pred), rmse(Y_test.revenue, Y_test.pred))\n",
    "print()\n",
    "\n",
    "print(\"Предсказание суммарного ltv для игроков, зарегистрировавшихся в один день\")\n",
    "Y = Y.groupby(\"regday\").sum()\n",
    "Y_test = Y_test.groupby(\"regday\").sum()\n",
    "\n",
    "print(\"R2\", r2_score(Y.revenue, Y.pred), r2_score(Y_test.revenue, Y_test.pred))\n",
    "print(\"MAE\", mean_absolute_error(Y.revenue, Y.pred), mean_absolute_error(Y_test.revenue, Y_test.pred))\n",
    "print(\"RMSE\", rmse(Y.revenue, Y.pred), rmse(Y_test.revenue, Y_test.pred))"
   ]
  },
  {
   "cell_type": "code",
   "execution_count": 88,
   "metadata": {
    "collapsed": false,
    "scrolled": true
   },
   "outputs": [
    {
     "data": {
      "text/html": [
       "<div>\n",
       "<table border=\"1\" class=\"dataframe\">\n",
       "  <thead>\n",
       "    <tr style=\"text-align: right;\">\n",
       "      <th></th>\n",
       "      <th>0</th>\n",
       "      <th>1</th>\n",
       "    </tr>\n",
       "  </thead>\n",
       "  <tbody>\n",
       "    <tr>\n",
       "      <th>0</th>\n",
       "      <td>visit_days/revenue7</td>\n",
       "      <td>-885.902235</td>\n",
       "    </tr>\n",
       "    <tr>\n",
       "      <th>1</th>\n",
       "      <td>visit_days7</td>\n",
       "      <td>835.478751</td>\n",
       "    </tr>\n",
       "    <tr>\n",
       "      <th>2</th>\n",
       "      <td>revenue_lr_0</td>\n",
       "      <td>-518.163488</td>\n",
       "    </tr>\n",
       "    <tr>\n",
       "      <th>3</th>\n",
       "      <td>revenue/visit_days7</td>\n",
       "      <td>501.719839</td>\n",
       "    </tr>\n",
       "    <tr>\n",
       "      <th>4</th>\n",
       "      <td>visit_days7_2</td>\n",
       "      <td>-315.030438</td>\n",
       "    </tr>\n",
       "    <tr>\n",
       "      <th>5</th>\n",
       "      <td>revenue_lr_1</td>\n",
       "      <td>-302.994521</td>\n",
       "    </tr>\n",
       "    <tr>\n",
       "      <th>6</th>\n",
       "      <td>revenue||visit_days7</td>\n",
       "      <td>-245.913728</td>\n",
       "    </tr>\n",
       "    <tr>\n",
       "      <th>7</th>\n",
       "      <td>all_quests/sessions_lr_1</td>\n",
       "      <td>85.204274</td>\n",
       "    </tr>\n",
       "    <tr>\n",
       "      <th>8</th>\n",
       "      <td>all_quests/revenue_lr_0</td>\n",
       "      <td>73.204826</td>\n",
       "    </tr>\n",
       "    <tr>\n",
       "      <th>9</th>\n",
       "      <td>all_quests/sessions_lr_0</td>\n",
       "      <td>68.016801</td>\n",
       "    </tr>\n",
       "    <tr>\n",
       "      <th>10</th>\n",
       "      <td>all_quests/revenue_lr_1</td>\n",
       "      <td>59.506917</td>\n",
       "    </tr>\n",
       "    <tr>\n",
       "      <th>11</th>\n",
       "      <td>RU</td>\n",
       "      <td>34.469800</td>\n",
       "    </tr>\n",
       "    <tr>\n",
       "      <th>12</th>\n",
       "      <td>US</td>\n",
       "      <td>30.704193</td>\n",
       "    </tr>\n",
       "    <tr>\n",
       "      <th>13</th>\n",
       "      <td>all_quests_lr_1</td>\n",
       "      <td>28.004600</td>\n",
       "    </tr>\n",
       "    <tr>\n",
       "      <th>14</th>\n",
       "      <td>sessions_lr_0</td>\n",
       "      <td>-25.205742</td>\n",
       "    </tr>\n",
       "    <tr>\n",
       "      <th>15</th>\n",
       "      <td>revenue/sessions_lr_0</td>\n",
       "      <td>-24.386388</td>\n",
       "    </tr>\n",
       "    <tr>\n",
       "      <th>16</th>\n",
       "      <td>revenue/all_quests_lr_1</td>\n",
       "      <td>-22.451284</td>\n",
       "    </tr>\n",
       "    <tr>\n",
       "      <th>17</th>\n",
       "      <td>all_quests_lr_0</td>\n",
       "      <td>20.266777</td>\n",
       "    </tr>\n",
       "    <tr>\n",
       "      <th>18</th>\n",
       "      <td>revenue/all_quests_lr_0</td>\n",
       "      <td>-18.956663</td>\n",
       "    </tr>\n",
       "    <tr>\n",
       "      <th>19</th>\n",
       "      <td>GB</td>\n",
       "      <td>-18.527964</td>\n",
       "    </tr>\n",
       "    <tr>\n",
       "      <th>20</th>\n",
       "      <td>SG</td>\n",
       "      <td>-17.077593</td>\n",
       "    </tr>\n",
       "    <tr>\n",
       "      <th>21</th>\n",
       "      <td>revenue/sessions_lr_1</td>\n",
       "      <td>-16.263905</td>\n",
       "    </tr>\n",
       "    <tr>\n",
       "      <th>22</th>\n",
       "      <td>CA</td>\n",
       "      <td>13.593028</td>\n",
       "    </tr>\n",
       "    <tr>\n",
       "      <th>23</th>\n",
       "      <td>AU</td>\n",
       "      <td>-12.336230</td>\n",
       "    </tr>\n",
       "    <tr>\n",
       "      <th>24</th>\n",
       "      <td>DE</td>\n",
       "      <td>-9.734792</td>\n",
       "    </tr>\n",
       "    <tr>\n",
       "      <th>25</th>\n",
       "      <td>sessions_lr_1</td>\n",
       "      <td>9.380085</td>\n",
       "    </tr>\n",
       "    <tr>\n",
       "      <th>26</th>\n",
       "      <td>CH</td>\n",
       "      <td>8.386527</td>\n",
       "    </tr>\n",
       "    <tr>\n",
       "      <th>27</th>\n",
       "      <td>FR</td>\n",
       "      <td>-3.419745</td>\n",
       "    </tr>\n",
       "    <tr>\n",
       "      <th>28</th>\n",
       "      <td>transactions7</td>\n",
       "      <td>-1.528456</td>\n",
       "    </tr>\n",
       "    <tr>\n",
       "      <th>29</th>\n",
       "      <td>SE</td>\n",
       "      <td>-0.285250</td>\n",
       "    </tr>\n",
       "  </tbody>\n",
       "</table>\n",
       "</div>"
      ],
      "text/plain": [
       "                           0           1\n",
       "0        visit_days/revenue7 -885.902235\n",
       "1                visit_days7  835.478751\n",
       "2               revenue_lr_0 -518.163488\n",
       "3        revenue/visit_days7  501.719839\n",
       "4              visit_days7_2 -315.030438\n",
       "5               revenue_lr_1 -302.994521\n",
       "6       revenue||visit_days7 -245.913728\n",
       "7   all_quests/sessions_lr_1   85.204274\n",
       "8    all_quests/revenue_lr_0   73.204826\n",
       "9   all_quests/sessions_lr_0   68.016801\n",
       "10   all_quests/revenue_lr_1   59.506917\n",
       "11                        RU   34.469800\n",
       "12                        US   30.704193\n",
       "13           all_quests_lr_1   28.004600\n",
       "14             sessions_lr_0  -25.205742\n",
       "15     revenue/sessions_lr_0  -24.386388\n",
       "16   revenue/all_quests_lr_1  -22.451284\n",
       "17           all_quests_lr_0   20.266777\n",
       "18   revenue/all_quests_lr_0  -18.956663\n",
       "19                        GB  -18.527964\n",
       "20                        SG  -17.077593\n",
       "21     revenue/sessions_lr_1  -16.263905\n",
       "22                        CA   13.593028\n",
       "23                        AU  -12.336230\n",
       "24                        DE   -9.734792\n",
       "25             sessions_lr_1    9.380085\n",
       "26                        CH    8.386527\n",
       "27                        FR   -3.419745\n",
       "28             transactions7   -1.528456\n",
       "29                        SE   -0.285250"
      ]
     },
     "execution_count": 88,
     "metadata": {},
     "output_type": "execute_result"
    }
   ],
   "source": [
    "weights = list(zip(X1.columns, est.coef_))\n",
    "weights.sort(key=lambda x: -abs(x[1]))\n",
    "pd.DataFrame(weights)"
   ]
  },
  {
   "cell_type": "code",
   "execution_count": null,
   "metadata": {
    "collapsed": true
   },
   "outputs": [],
   "source": []
  },
  {
   "cell_type": "code",
   "execution_count": 73,
   "metadata": {
    "collapsed": false
   },
   "outputs": [
    {
     "name": "stdout",
     "output_type": "stream",
     "text": [
      "Предсказание ltv для отдельных игроков\n",
      "R2 0.903058793397 0.838368231477\n",
      "MAE 123.497732675 187.566695211\n",
      "RMSE 349.759008691 470.766091668\n",
      "\n",
      "Предсказание суммарного ltv для игроков, зарегистрировавшихся в один день\n",
      "R2 0.999322022277 0.989516841543\n",
      "MAE 2181.42584362 4829.72415168\n",
      "RMSE 2745.60769465 6051.81550963\n"
     ]
    }
   ],
   "source": [
    "ss = StandardScaler()\n",
    "est = RandomForestRegressor(n_estimators=60, max_depth=8)\n",
    "std_est = Pipeline([(\"std_scaler\", ss), (\"estimator\", est)])\n",
    "\n",
    "std_est, y_pred, y_pred_test = train_model(X=X1, y=y1, X_test=X1_test, y_test=y1_test, model=std_est)\n",
    "\n",
    "print(\"Предсказание ltv для отдельных игроков\")\n",
    "Y = y1.to_frame().join(payers_regday.to_frame())\n",
    "Y[\"pred\"] = y_pred\n",
    "Y_test = y1_test.to_frame().join(payers_regday_test.to_frame())\n",
    "Y_test[\"pred\"] = y_pred_test\n",
    "\n",
    "print(\"R2\", r2_score(Y.revenue, Y.pred), r2_score(Y_test.revenue, Y_test.pred))\n",
    "print(\"MAE\", mean_absolute_error(Y.revenue, Y.pred), mean_absolute_error(Y_test.revenue, Y_test.pred))\n",
    "print(\"RMSE\", rmse(Y.revenue, Y.pred), rmse(Y_test.revenue, Y_test.pred))\n",
    "print()\n",
    "\n",
    "print(\"Предсказание суммарного ltv для игроков, зарегистрировавшихся в один день\")\n",
    "Y = Y.groupby(\"regday\").sum()\n",
    "Y_test = Y_test.groupby(\"regday\").sum()\n",
    "\n",
    "print(\"R2\", r2_score(Y.revenue, Y.pred), r2_score(Y_test.revenue, Y_test.pred))\n",
    "print(\"MAE\", mean_absolute_error(Y.revenue, Y.pred), mean_absolute_error(Y_test.revenue, Y_test.pred))\n",
    "print(\"RMSE\", rmse(Y.revenue, Y.pred), rmse(Y_test.revenue, Y_test.pred))"
   ]
  },
  {
   "cell_type": "code",
   "execution_count": 74,
   "metadata": {
    "collapsed": false
   },
   "outputs": [
    {
     "name": "stdout",
     "output_type": "stream",
     "text": [
      "Предсказание ltv для отдельных игроков\n",
      "R2 0.818672590461 0.781687379703\n",
      "MAE 124.046745766 200.08662039\n",
      "RMSE 478.350715048 547.118289117\n",
      "\n",
      "Предсказание суммарного ltv для игроков, зарегистрировавшихся в один день\n",
      "R2 0.997367628385 0.988721723485\n",
      "MAE 4034.56259444 5088.27326667\n",
      "RMSE 5410.08851797 6277.12784518\n"
     ]
    }
   ],
   "source": [
    "ss = StandardScaler()\n",
    "est = RandomForestRegressor(n_estimators=20, max_depth=7, criterion=\"mae\")\n",
    "std_est = Pipeline([(\"std_scaler\", ss), (\"estimator\", est)])\n",
    "\n",
    "std_est, y_pred, y_pred_test = train_model(X=X1, y=y1, X_test=X1_test, y_test=y1_test, model=std_est)\n",
    "\n",
    "print(\"Предсказание ltv для отдельных игроков\")\n",
    "Y = y1.to_frame().join(payers_regday.to_frame())\n",
    "Y[\"pred\"] = y_pred\n",
    "Y_test = y1_test.to_frame().join(payers_regday_test.to_frame())\n",
    "Y_test[\"pred\"] = y_pred_test\n",
    "\n",
    "print(\"R2\", r2_score(Y.revenue, Y.pred), r2_score(Y_test.revenue, Y_test.pred))\n",
    "print(\"MAE\", mean_absolute_error(Y.revenue, Y.pred), mean_absolute_error(Y_test.revenue, Y_test.pred))\n",
    "print(\"RMSE\", rmse(Y.revenue, Y.pred), rmse(Y_test.revenue, Y_test.pred))\n",
    "print()\n",
    "\n",
    "print(\"Предсказание суммарного ltv для игроков, зарегистрировавшихся в один день\")\n",
    "Y = Y.groupby(\"regday\").sum()\n",
    "Y_test = Y_test.groupby(\"regday\").sum()\n",
    "\n",
    "print(\"R2\", r2_score(Y.revenue, Y.pred), r2_score(Y_test.revenue, Y_test.pred))\n",
    "print(\"MAE\", mean_absolute_error(Y.revenue, Y.pred), mean_absolute_error(Y_test.revenue, Y_test.pred))\n",
    "print(\"RMSE\", rmse(Y.revenue, Y.pred), rmse(Y_test.revenue, Y_test.pred))"
   ]
  },
  {
   "cell_type": "code",
   "execution_count": 82,
   "metadata": {
    "collapsed": false
   },
   "outputs": [
    {
     "name": "stdout",
     "output_type": "stream",
     "text": [
      "Предсказание ltv для отдельных игроков\n",
      "R2 0.871442399484 0.850757116575\n",
      "MAE 155.115800185 181.211251207\n",
      "RMSE 402.775993728 452.364616068\n",
      "\n",
      "Предсказание суммарного ltv для игроков, зарегистрировавшихся в один день\n",
      "R2 0.999097417733 0.993677924743\n",
      "MAE 2529.99272477 3748.29391266\n",
      "RMSE 3167.91973794 4699.69241839\n"
     ]
    }
   ],
   "source": [
    "ss = StandardScaler()\n",
    "est = ExtraTreesRegressor(n_estimators=50, max_depth=8, bootstrap=True)\n",
    "std_est = Pipeline([(\"std_scaler\", ss), (\"estimator\", est)])\n",
    "\n",
    "std_est, y_pred, y_pred_test = train_model(X=X1, y=y1, X_test=X1_test, y_test=y1_test, model=std_est)\n",
    "\n",
    "print(\"Предсказание ltv для отдельных игроков\")\n",
    "Y = y1.to_frame().join(payers_regday.to_frame())\n",
    "Y[\"pred\"] = y_pred\n",
    "Y_test = y1_test.to_frame().join(payers_regday_test.to_frame())\n",
    "Y_test[\"pred\"] = y_pred_test\n",
    "\n",
    "print(\"R2\", r2_score(Y.revenue, Y.pred), r2_score(Y_test.revenue, Y_test.pred))\n",
    "print(\"MAE\", mean_absolute_error(Y.revenue, Y.pred), mean_absolute_error(Y_test.revenue, Y_test.pred))\n",
    "print(\"RMSE\", rmse(Y.revenue, Y.pred), rmse(Y_test.revenue, Y_test.pred))\n",
    "print()\n",
    "\n",
    "print(\"Предсказание суммарного ltv для игроков, зарегистрировавшихся в один день\")\n",
    "Y = Y.groupby(\"regday\").sum()\n",
    "Y_test = Y_test.groupby(\"regday\").sum()\n",
    "\n",
    "print(\"R2\", r2_score(Y.revenue, Y.pred), r2_score(Y_test.revenue, Y_test.pred))\n",
    "print(\"MAE\", mean_absolute_error(Y.revenue, Y.pred), mean_absolute_error(Y_test.revenue, Y_test.pred))\n",
    "print(\"RMSE\", rmse(Y.revenue, Y.pred), rmse(Y_test.revenue, Y_test.pred))"
   ]
  },
  {
   "cell_type": "code",
   "execution_count": 76,
   "metadata": {
    "collapsed": false
   },
   "outputs": [
    {
     "name": "stdout",
     "output_type": "stream",
     "text": [
      "Предсказание ltv для отдельных игроков\n",
      "R2 0.790222006351 0.805650656476\n",
      "MAE 155.797374483 167.582969993\n",
      "RMSE 514.510998091 516.218245606\n",
      "\n",
      "Предсказание суммарного ltv для игроков, зарегистрировавшихся в один день\n",
      "R2 0.997608596936 0.997085819762\n",
      "MAE 3895.3768037 2475.16529444\n",
      "RMSE 5156.5254088 3190.7869653\n"
     ]
    }
   ],
   "source": [
    "ss = StandardScaler()\n",
    "est = ExtraTreesRegressor(n_estimators=30, max_depth=8, bootstrap=True, criterion=\"mae\")\n",
    "std_est = Pipeline([(\"std_scaler\", ss), (\"estimator\", est)])\n",
    "\n",
    "std_est, y_pred, y_pred_test = train_model(X=X1, y=y1, X_test=X1_test, y_test=y1_test, model=std_est)\n",
    "\n",
    "print(\"Предсказание ltv для отдельных игроков\")\n",
    "Y = y1.to_frame().join(payers_regday.to_frame())\n",
    "Y[\"pred\"] = y_pred\n",
    "Y_test = y1_test.to_frame().join(payers_regday_test.to_frame())\n",
    "Y_test[\"pred\"] = y_pred_test\n",
    "\n",
    "print(\"R2\", r2_score(Y.revenue, Y.pred), r2_score(Y_test.revenue, Y_test.pred))\n",
    "print(\"MAE\", mean_absolute_error(Y.revenue, Y.pred), mean_absolute_error(Y_test.revenue, Y_test.pred))\n",
    "print(\"RMSE\", rmse(Y.revenue, Y.pred), rmse(Y_test.revenue, Y_test.pred))\n",
    "print()\n",
    "\n",
    "print(\"Предсказание суммарного ltv для игроков, зарегистрировавшихся в один день\")\n",
    "Y = Y.groupby(\"regday\").sum()\n",
    "Y_test = Y_test.groupby(\"regday\").sum()\n",
    "\n",
    "print(\"R2\", r2_score(Y.revenue, Y.pred), r2_score(Y_test.revenue, Y_test.pred))\n",
    "print(\"MAE\", mean_absolute_error(Y.revenue, Y.pred), mean_absolute_error(Y_test.revenue, Y_test.pred))\n",
    "print(\"RMSE\", rmse(Y.revenue, Y.pred), rmse(Y_test.revenue, Y_test.pred))"
   ]
  },
  {
   "cell_type": "code",
   "execution_count": 77,
   "metadata": {
    "collapsed": false
   },
   "outputs": [
    {
     "name": "stdout",
     "output_type": "stream",
     "text": [
      "Предсказание ltv для отдельных игроков\n",
      "R2 0.877281372663 0.828250096013\n",
      "MAE 175.135690966 228.082657363\n",
      "RMSE 393.522839547 485.277396486\n",
      "\n",
      "Предсказание суммарного ltv для игроков, зарегистрировавшихся в один день\n",
      "R2 0.99910735933 0.987910278431\n",
      "MAE 2453.23089945 5191.59183988\n",
      "RMSE 3150.42471916 6499.01821751\n"
     ]
    }
   ],
   "source": [
    "ss = StandardScaler()\n",
    "est = GradientBoostingRegressor(n_estimators=300, subsample=0.8, learning_rate=0.01, max_depth=5)\n",
    "std_est = Pipeline([(\"std_scaler\", ss), (\"estimator\", est)])\n",
    "\n",
    "std_est, y_pred, y_pred_test = train_model(X=X1, y=y1, X_test=X1_test, y_test=y1_test, model=std_est)\n",
    "\n",
    "print(\"Предсказание ltv для отдельных игроков\")\n",
    "Y = y1.to_frame().join(payers_regday.to_frame())\n",
    "Y[\"pred\"] = y_pred\n",
    "Y_test = y1_test.to_frame().join(payers_regday_test.to_frame())\n",
    "Y_test[\"pred\"] = y_pred_test\n",
    "\n",
    "print(\"R2\", r2_score(Y.revenue, Y.pred), r2_score(Y_test.revenue, Y_test.pred))\n",
    "print(\"MAE\", mean_absolute_error(Y.revenue, Y.pred), mean_absolute_error(Y_test.revenue, Y_test.pred))\n",
    "print(\"RMSE\", rmse(Y.revenue, Y.pred), rmse(Y_test.revenue, Y_test.pred))\n",
    "print()\n",
    "\n",
    "print(\"Предсказание суммарного ltv для игроков, зарегистрировавшихся в один день\")\n",
    "Y = Y.groupby(\"regday\").sum()\n",
    "Y_test = Y_test.groupby(\"regday\").sum()\n",
    "\n",
    "print(\"R2\", r2_score(Y.revenue, Y.pred), r2_score(Y_test.revenue, Y_test.pred))\n",
    "print(\"MAE\", mean_absolute_error(Y.revenue, Y.pred), mean_absolute_error(Y_test.revenue, Y_test.pred))\n",
    "print(\"RMSE\", rmse(Y.revenue, Y.pred), rmse(Y_test.revenue, Y_test.pred))"
   ]
  },
  {
   "cell_type": "code",
   "execution_count": null,
   "metadata": {
    "collapsed": true
   },
   "outputs": [],
   "source": []
  },
  {
   "cell_type": "code",
   "execution_count": 83,
   "metadata": {
    "collapsed": true
   },
   "outputs": [],
   "source": [
    "# зависимость ошибки от ограничения ltv (модель - ExtraTreesRegressor(n_estimators=50, max_depth=8, bootstrap=True))"
   ]
  },
  {
   "cell_type": "code",
   "execution_count": 94,
   "metadata": {
    "collapsed": false
   },
   "outputs": [
    {
     "data": {
      "image/png": "[encoded data removed]",
      "text/plain": [
       "<matplotlib.figure.Figure at 0x7fc8354e5438>"
      ]
     },
     "metadata": {},
     "output_type": "display_data"
    }
   ],
   "source": [
    "thresholds = np.array([1000 * (2 ** i) for i in range(6)])\n",
    "mae_train = np.zeros_like(thresholds)\n",
    "mae_test = np.zeros_like(thresholds)\n",
    "rmse_train = np.zeros_like(thresholds)\n",
    "rmse_test = np.zeros_like(thresholds)\n",
    "\n",
    "mae_train_sum = np.zeros_like(thresholds)\n",
    "mae_test_sum = np.zeros_like(thresholds)\n",
    "rmse_train_sum = np.zeros_like(thresholds)\n",
    "rmse_test_sum = np.zeros_like(thresholds)\n",
    "\n",
    "ss = StandardScaler()\n",
    "est = ExtraTreesRegressor(n_estimators=50, max_depth=8, bootstrap=True)\n",
    "std_est = Pipeline([(\"std_scaler\", ss), (\"estimator\", est)])\n",
    "\n",
    "for i in range(thresholds.size):\n",
    "    y1 = y.copy()\n",
    "    y1_test = y_test.copy()\n",
    "    # ограничение ltv cверху\n",
    "    t = thresholds[i]\n",
    "    y1[y1 > t] = t\n",
    "    y1_test[y1_test > t] = t\n",
    "    # исключение игроков, которые не платили в течение первой недели\n",
    "    X1 = X1[payers_revenue_ts.iloc[:, :7].sum(axis=1) != 0]\n",
    "    y1 = y1[payers_revenue_ts.iloc[:, :7].sum(axis=1) != 0]\n",
    "    X1_test = X1_test[payers_revenue_ts_test.iloc[:, :7].sum(axis=1) != 0]\n",
    "    y1_test = y1_test[payers_revenue_ts_test.iloc[:, :7].sum(axis=1) != 0]\n",
    "\n",
    "    std_est, y_pred, y_pred_test = train_model(X=X1, y=y1, X_test=X1_test, y_test=y1_test, model=std_est)\n",
    "    \n",
    "    Y = y1.to_frame().join(payers_regday.to_frame())\n",
    "    Y[\"pred\"] = y_pred\n",
    "    Y_test = y1_test.to_frame().join(payers_regday_test.to_frame())\n",
    "    Y_test[\"pred\"] = y_pred_test\n",
    "    \n",
    "    mae_train[i] = mean_absolute_error(Y.revenue, Y.pred)\n",
    "    mae_test[i] = mean_absolute_error(Y_test.revenue, Y_test.pred)\n",
    "    rmse_train[i] = rmse(Y.revenue, Y.pred)\n",
    "    rmse_test[i] = rmse(Y_test.revenue, Y_test.pred)\n",
    "    \n",
    "    Y = Y.groupby(\"regday\").sum()\n",
    "    Y_test = Y_test.groupby(\"regday\").sum()\n",
    "    \n",
    "    mae_train_sum[i] = mean_absolute_error(Y.revenue, Y.pred)\n",
    "    mae_test_sum[i] = mean_absolute_error(Y_test.revenue, Y_test.pred)\n",
    "    rmse_train_sum[i] = rmse(Y.revenue, Y.pred)\n",
    "    rmse_test_sum[i] = rmse(Y_test.revenue, Y_test.pred)\n",
    "\n",
    "f, axes = plt.subplots(2, 2, figsize=(20, 16), sharex='col', sharey=False)\n",
    "axes[0, 0].plot(thresholds, mae_train, label='train')\n",
    "axes[0, 0].plot(thresholds, mae_test, label='test')\n",
    "axes[0, 0].set_title(\"MAE\")\n",
    "axes[0, 0].legend(loc='upper center', shadow=True)\n",
    "axes[1, 0].plot(thresholds, rmse_train, label='train')\n",
    "axes[1, 0].plot(thresholds, rmse_test, label='test')\n",
    "axes[1, 0].legend(loc='upper center', shadow=True)\n",
    "axes[1, 0].set_title(\"RMSE\")\n",
    "axes[1, 0].set_xlabel(\"threshold\")\n",
    "axes[0, 1].plot(thresholds, mae_train_sum, label='train')\n",
    "axes[0, 1].plot(thresholds, mae_test_sum, label='test')\n",
    "axes[0, 1].set_title(\"MAE (сумма ltv по дням)\")\n",
    "axes[0, 1].legend(loc='upper center', shadow=True)\n",
    "axes[1, 1].plot(thresholds, rmse_train_sum, label='train')\n",
    "axes[1, 1].plot(thresholds, rmse_test_sum, label='test')\n",
    "axes[1, 1].set_title(\"RMSE (сумма ltv по дням)\")\n",
    "axes[1, 1].legend(loc='upper center', shadow=True)\n",
    "axes[1, 1].set_xlabel(\"threshold\")\n",
    "plt.show()"
   ]
  },
  {
   "cell_type": "code",
   "execution_count": null,
   "metadata": {
    "collapsed": true
   },
   "outputs": [],
   "source": []
  },
  {
   "cell_type": "code",
   "execution_count": 95,
   "metadata": {
    "collapsed": true
   },
   "outputs": [],
   "source": [
    "# зависимость ошибки от тестовой недели (модель - ExtraTreesRegressor(n_estimators=50, max_depth=8, bootstrap=True))"
   ]
  },
  {
   "cell_type": "code",
   "execution_count": 98,
   "metadata": {
    "collapsed": false
   },
   "outputs": [
    {
     "data": {
      "image/png": "[encoded data removed]",
      "text/plain": [
       "<matplotlib.figure.Figure at 0x7fc834279f28>"
      ]
     },
     "metadata": {},
     "output_type": "display_data"
    }
   ],
   "source": [
    "y1 = y.copy()\n",
    "y1_test = y_test.copy()\n",
    "# ограничение ltv cверху\n",
    "t = 4000\n",
    "y1[y1 > t] = t\n",
    "y1_test[y1_test > t] = t\n",
    "# исключение игроков, которые не платили в течение первой недели\n",
    "X1 = X1[payers_revenue_ts.iloc[:, :7].sum(axis=1) != 0]\n",
    "y1 = y1[payers_revenue_ts.iloc[:, :7].sum(axis=1) != 0]\n",
    "X1_test = X1_test[payers_revenue_ts_test.iloc[:, :7].sum(axis=1) != 0]\n",
    "y1_test = y1_test[payers_revenue_ts_test.iloc[:, :7].sum(axis=1) != 0]\n",
    "\n",
    "ss = StandardScaler()\n",
    "est = ExtraTreesRegressor(n_estimators=50, max_depth=8, bootstrap=True)\n",
    "std_est = Pipeline([(\"std_scaler\", ss), (\"estimator\", est)])\n",
    "\n",
    "std_est, y_pred, y_pred_test = train_model(X=X1, y=y1, X_test=X1_test, y_test=y1_test, model=std_est)\n",
    "\n",
    "Y = y1.to_frame().join(payers_regday.to_frame())\n",
    "Y[\"pred\"] = y_pred\n",
    "Y_test = y1_test.to_frame().join(payers_regday_test.to_frame())\n",
    "Y_test[\"pred\"] = y_pred_test\n",
    "Y_test[\"reg_week\"] = (Y_test.regday - Y_test.regday.min()) // 7\n",
    "\n",
    "n_test_weeks = int((Y_test.regday.max() - Y_test.regday.min()) // 7) + 1\n",
    "\n",
    "week_mae = np.zeros(n_test_weeks)\n",
    "week_rmse = np.zeros(n_test_weeks)\n",
    "week_mae_sum = np.zeros(n_test_weeks)\n",
    "week_rmse_sum = np.zeros(n_test_weeks)\n",
    "\n",
    "for i in range(n_test_weeks):\n",
    "    week_mae[i] = mean_absolute_error(Y_test.loc[(Y_test.regday - Y_test.regday.min()) // 7 == i, \"revenue\"], \n",
    "                                      Y_test.loc[(Y_test.regday - Y_test.regday.min()) // 7 == i, \"pred\"])\n",
    "    week_rmse[i] = rmse(Y_test.loc[(Y_test.regday - Y_test.regday.min()) // 7 == i, \"revenue\"], \n",
    "                        Y_test.loc[(Y_test.regday - Y_test.regday.min()) // 7 == i, \"pred\"])\n",
    "    \n",
    "Y_test = Y_test.groupby(\"regday\").sum().reset_index()\n",
    "for i in range(n_test_weeks):\n",
    "    week_mae_sum[i] = mean_absolute_error(Y_test.loc[(Y_test.regday - Y_test.regday.min()) // 7 == i, \"revenue\"], \n",
    "                                          Y_test.loc[(Y_test.regday - Y_test.regday.min()) // 7 == i, \"pred\"])\n",
    "    week_rmse_sum[i] = rmse(Y_test.loc[(Y_test.regday - Y_test.regday.min()) // 7 == i, \"revenue\"],\n",
    "                            Y_test.loc[(Y_test.regday - Y_test.regday.min()) // 7 == i, \"pred\"])\n",
    "    \n",
    "f, axes = plt.subplots(2, figsize=(20, 16))\n",
    "axes[0].plot(np.arange(1, n_test_weeks + 1), week_mae, label='MAE')\n",
    "axes[0].plot(np.arange(1, n_test_weeks + 1), week_rmse, label='RMSE')\n",
    "axes[0].set_title(\"LTV для отдельных пользователей\")\n",
    "axes[0].set_xlabel(\"test week\")\n",
    "axes[0].legend(loc='upper center', shadow=True)\n",
    "axes[1].plot(np.arange(1, n_test_weeks + 1), week_mae_sum, label='MAE')\n",
    "axes[1].plot(np.arange(1, n_test_weeks + 1), week_rmse_sum, label='RMSE')\n",
    "axes[1].set_title(\"LTV суммарно по дням\")\n",
    "axes[1].set_xlabel(\"test week\")\n",
    "axes[1].legend(loc='upper center', shadow=True)\n",
    "plt.show()"
   ]
  },
  {
   "cell_type": "code",
   "execution_count": null,
   "metadata": {
    "collapsed": true
   },
   "outputs": [],
   "source": []
  },
  {
   "cell_type": "code",
   "execution_count": 97,
   "metadata": {
    "collapsed": true
   },
   "outputs": [],
   "source": [
    "# зависимость ошибки от ограничения LTV и тестовой недели \n",
    "# (модель - ExtraTreesRegressor(n_estimators=50, max_depth=8, bootstrap=True))"
   ]
  },
  {
   "cell_type": "code",
   "execution_count": 100,
   "metadata": {
    "collapsed": false
   },
   "outputs": [
    {
     "data": {
      "text/plain": [
       "<matplotlib.text.Text at 0x7fc833906e48>"
      ]
     },
     "execution_count": 100,
     "metadata": {},
     "output_type": "execute_result"
    },
    {
     "data": {
      "image/png": "[encoded data removed]",
      "text/plain": [
       "<matplotlib.figure.Figure at 0x7fc834e6f128>"
      ]
     },
     "metadata": {},
     "output_type": "display_data"
    }
   ],
   "source": [
    "thresholds = np.array([1000 * (2 ** i) for i in range(6)])\n",
    "\n",
    "n_test_weeks = int((payers_regday_test.max() - payers_regday_test.min()) // 7) + 1\n",
    "n_test_weeks = 5\n",
    "\n",
    "week_mae = np.zeros((thresholds.size, n_test_weeks))\n",
    "week_rmse = np.zeros((thresholds.size, n_test_weeks))\n",
    "week_mae_sum = np.zeros((thresholds.size, n_test_weeks))\n",
    "week_rmse_sum = np.zeros((thresholds.size, n_test_weeks))\n",
    "\n",
    "ss = StandardScaler()\n",
    "est = ExtraTreesRegressor(n_estimators=50, max_depth=8, bootstrap=True)\n",
    "std_est = Pipeline([(\"std_scaler\", ss), (\"estimator\", est)])\n",
    "\n",
    "for i in range(thresholds.size):\n",
    "    y1 = y.copy()\n",
    "    y1_test = y_test.copy()\n",
    "    # ограничение ltv cверху\n",
    "    t = thresholds[i]\n",
    "    y1[y1 > t] = t\n",
    "    y1_test[y1_test > t] = t\n",
    "    # исключение игроков, которые не платили в течение первой недели\n",
    "    X1 = X1[payers_revenue_ts.iloc[:, :7].sum(axis=1) != 0]\n",
    "    y1 = y1[payers_revenue_ts.iloc[:, :7].sum(axis=1) != 0]\n",
    "    X1_test = X1_test[payers_revenue_ts_test.iloc[:, :7].sum(axis=1) != 0]\n",
    "    y1_test = y1_test[payers_revenue_ts_test.iloc[:, :7].sum(axis=1) != 0]\n",
    "    \n",
    "    std_est, y_pred, y_pred_test = train_model(X=X1, y=y1, X_test=X1_test, y_test=y1_test, model=std_est)\n",
    "    \n",
    "    Y_test = y1_test.to_frame().join(payers_regday_test.to_frame())\n",
    "    Y_test[\"pred\"] = y_pred_test\n",
    "    \n",
    "    for j in range(n_test_weeks):\n",
    "        week_mae[i, j] = mean_absolute_error(Y_test.loc[(Y_test.regday - Y_test.regday.min()) // 7 == j, \"revenue\"], \n",
    "                                          Y_test.loc[(Y_test.regday - Y_test.regday.min()) // 7 == j, \"pred\"])\n",
    "        week_rmse[i, j] = rmse(Y_test.loc[(Y_test.regday - Y_test.regday.min()) // 7 == j, \"revenue\"], \n",
    "                            Y_test.loc[(Y_test.regday - Y_test.regday.min()) // 7 == j, \"pred\"])\n",
    "    \n",
    "    Y_test = Y_test.groupby(\"regday\").sum().reset_index()\n",
    "    \n",
    "    for j in range(n_test_weeks):\n",
    "        week_mae_sum[i, j] = mean_absolute_error(Y_test.loc[(Y_test.regday - Y_test.regday.min()) // 7 == j, \"revenue\"], \n",
    "                                              Y_test.loc[(Y_test.regday - Y_test.regday.min()) // 7 == j, \"pred\"])\n",
    "        week_rmse_sum[i, j] = rmse(Y_test.loc[(Y_test.regday - Y_test.regday.min()) // 7 == j, \"revenue\"],\n",
    "                                Y_test.loc[(Y_test.regday - Y_test.regday.min()) // 7 == j, \"pred\"])\n",
    "\n",
    "f, axes = plt.subplots(4, figsize=(20, 32))\n",
    "sns.heatmap(week_mae, annot=True, ax=axes[0], yticklabels=thresholds)\n",
    "axes[0].set_title(\"MAE\")\n",
    "axes[0].set_xlabel(\"test week\")\n",
    "axes[0].set_ylabel(\"threshold\")\n",
    "sns.heatmap(week_rmse, annot=True, ax=axes[1],  xticklabels=np.arange(1, 6), yticklabels=thresholds)\n",
    "axes[1].set_title(\"RMSE\")\n",
    "axes[1].set_xlabel(\"test week\")\n",
    "axes[1].set_ylabel(\"threshold\")\n",
    "sns.heatmap(week_mae_sum, annot=True, ax=axes[2], yticklabels=thresholds)\n",
    "axes[2].set_title(\"MAE (суммарно по дням)\")\n",
    "axes[2].set_xlabel(\"test week\")\n",
    "axes[2].set_ylabel(\"threshold\")\n",
    "sns.heatmap(week_rmse_sum, annot=True, ax=axes[3],  xticklabels=np.arange(1, 6), yticklabels=thresholds)\n",
    "axes[3].set_title(\"RMSE (суммарно по дням)\")\n",
    "axes[3].set_xlabel(\"test week\")\n",
    "axes[3].set_ylabel(\"threshold\")"
   ]
  },
  {
   "cell_type": "code",
   "execution_count": null,
   "metadata": {
    "collapsed": true
   },
   "outputs": [],
   "source": []
  }
 ],
 "metadata": {
  "anaconda-cloud": {},
  "kernelspec": {
   "display_name": "Python [conda env:py3]",
   "language": "python",
   "name": "conda-env-py3-py"
  },
  "language_info": {
   "codemirror_mode": {
    "name": "ipython",
    "version": 3
   },
   "file_extension": ".py",
   "mimetype": "text/x-python",
   "name": "python",
   "nbconvert_exporter": "python",
   "pygments_lexer": "ipython3",
   "version": "3.4.5"
  }
 },
 "nbformat": 4,
 "nbformat_minor": 2
}
