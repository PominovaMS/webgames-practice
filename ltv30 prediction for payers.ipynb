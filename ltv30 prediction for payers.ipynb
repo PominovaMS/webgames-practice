{
 "cells": [
  {
   "cell_type": "code",
   "execution_count": 1,
   "metadata": {
    "collapsed": false
   },
   "outputs": [
    {
     "name": "stdout",
     "output_type": "stream",
     "text": [
      "Populating the interactive namespace from numpy and matplotlib\n"
     ]
    }
   ],
   "source": [
    "import numpy as np\n",
    "import pandas as pd\n",
    "import seaborn as sns\n",
    "%pylab inline"
   ]
  },
  {
   "cell_type": "code",
   "execution_count": 2,
   "metadata": {
    "collapsed": true
   },
   "outputs": [],
   "source": [
    "from sklearn.neighbors import KNeighborsRegressor\n",
    "from sklearn.svm import SVR\n",
    "from sklearn.ensemble import GradientBoostingRegressor, RandomForestRegressor, ExtraTreesRegressor\n",
    "from sklearn.linear_model import Ridge, LinearRegression\n",
    "from sklearn.preprocessing import StandardScaler\n",
    "from sklearn.pipeline import Pipeline\n",
    "from sklearn.metrics import mean_absolute_error, mean_squared_error, r2_score\n",
    "from sklearn.preprocessing import PolynomialFeatures\n",
    "from sklearn.preprocessing import LabelEncoder, OneHotEncoder"
   ]
  },
  {
   "cell_type": "code",
   "execution_count": 3,
   "metadata": {
    "collapsed": true
   },
   "outputs": [],
   "source": [
    "import warnings\n",
    "warnings.filterwarnings(\"ignore\")"
   ]
  },
  {
   "cell_type": "code",
   "execution_count": 4,
   "metadata": {
    "collapsed": false
   },
   "outputs": [
    {
     "data": {
      "text/html": [
       "<div>\n",
       "<table border=\"1\" class=\"dataframe\">\n",
       "  <thead>\n",
       "    <tr style=\"text-align: right;\">\n",
       "      <th></th>\n",
       "      <th>id</th>\n",
       "      <th>country</th>\n",
       "      <th>number_of_pgr</th>\n",
       "      <th>actdate</th>\n",
       "    </tr>\n",
       "  </thead>\n",
       "  <tbody>\n",
       "    <tr>\n",
       "      <th>0</th>\n",
       "      <td>c1d690f4ce</td>\n",
       "      <td>AU</td>\n",
       "      <td>9</td>\n",
       "      <td>2017-02-21</td>\n",
       "    </tr>\n",
       "    <tr>\n",
       "      <th>1</th>\n",
       "      <td>c1d690f4ce</td>\n",
       "      <td>AU</td>\n",
       "      <td>32</td>\n",
       "      <td>2017-02-18</td>\n",
       "    </tr>\n",
       "    <tr>\n",
       "      <th>2</th>\n",
       "      <td>c1d690f4ce</td>\n",
       "      <td>AU</td>\n",
       "      <td>11</td>\n",
       "      <td>2017-02-12</td>\n",
       "    </tr>\n",
       "    <tr>\n",
       "      <th>3</th>\n",
       "      <td>c1d690f4ce</td>\n",
       "      <td>AU</td>\n",
       "      <td>2</td>\n",
       "      <td>2017-02-17</td>\n",
       "    </tr>\n",
       "    <tr>\n",
       "      <th>4</th>\n",
       "      <td>c1d690f4ce</td>\n",
       "      <td>AU</td>\n",
       "      <td>4</td>\n",
       "      <td>2017-02-16</td>\n",
       "    </tr>\n",
       "  </tbody>\n",
       "</table>\n",
       "</div>"
      ],
      "text/plain": [
       "           id country  number_of_pgr     actdate\n",
       "0  c1d690f4ce      AU              9  2017-02-21\n",
       "1  c1d690f4ce      AU             32  2017-02-18\n",
       "2  c1d690f4ce      AU             11  2017-02-12\n",
       "3  c1d690f4ce      AU              2  2017-02-17\n",
       "4  c1d690f4ce      AU              4  2017-02-16"
      ]
     },
     "execution_count": 4,
     "metadata": {},
     "output_type": "execute_result"
    }
   ],
   "source": [
    "dau = pd.read_csv(\"practice_dau_ios.csv\", sep=\"|\", names=[\"id\", \n",
    "                                                          \"country\", \n",
    "                                                          \"number_of_pgr\", \n",
    "                                                          \"actdate\"])\n",
    "dau.head()"
   ]
  },
  {
   "cell_type": "code",
   "execution_count": 5,
   "metadata": {
    "collapsed": false
   },
   "outputs": [
    {
     "data": {
      "text/html": [
       "<div>\n",
       "<table border=\"1\" class=\"dataframe\">\n",
       "  <thead>\n",
       "    <tr style=\"text-align: right;\">\n",
       "      <th></th>\n",
       "      <th>id</th>\n",
       "      <th>actdate</th>\n",
       "      <th>regdate</th>\n",
       "      <th>clusters_ml_ended</th>\n",
       "      <th>revenue</th>\n",
       "      <th>transactions</th>\n",
       "      <th>quests_end</th>\n",
       "      <th>m_quests_end</th>\n",
       "      <th>crystals_value_spend</th>\n",
       "      <th>store_enters</th>\n",
       "    </tr>\n",
       "  </thead>\n",
       "  <tbody>\n",
       "    <tr>\n",
       "      <th>0</th>\n",
       "      <td>767bc9dfd3</td>\n",
       "      <td>2017-01-01</td>\n",
       "      <td>2017-01-01</td>\n",
       "      <td>1</td>\n",
       "      <td>0.0</td>\n",
       "      <td>0</td>\n",
       "      <td>9</td>\n",
       "      <td>0</td>\n",
       "      <td>0</td>\n",
       "      <td>0</td>\n",
       "    </tr>\n",
       "    <tr>\n",
       "      <th>1</th>\n",
       "      <td>249241537d</td>\n",
       "      <td>2017-01-01</td>\n",
       "      <td>2017-01-01</td>\n",
       "      <td>3</td>\n",
       "      <td>0.0</td>\n",
       "      <td>0</td>\n",
       "      <td>49</td>\n",
       "      <td>7</td>\n",
       "      <td>0</td>\n",
       "      <td>0</td>\n",
       "    </tr>\n",
       "    <tr>\n",
       "      <th>2</th>\n",
       "      <td>740d34570d</td>\n",
       "      <td>2017-01-01</td>\n",
       "      <td>2017-01-01</td>\n",
       "      <td>7</td>\n",
       "      <td>0.0</td>\n",
       "      <td>0</td>\n",
       "      <td>138</td>\n",
       "      <td>25</td>\n",
       "      <td>0</td>\n",
       "      <td>0</td>\n",
       "    </tr>\n",
       "    <tr>\n",
       "      <th>3</th>\n",
       "      <td>d288a3fd89</td>\n",
       "      <td>2017-01-02</td>\n",
       "      <td>2017-01-02</td>\n",
       "      <td>-2</td>\n",
       "      <td>0.0</td>\n",
       "      <td>0</td>\n",
       "      <td>0</td>\n",
       "      <td>0</td>\n",
       "      <td>0</td>\n",
       "      <td>0</td>\n",
       "    </tr>\n",
       "    <tr>\n",
       "      <th>4</th>\n",
       "      <td>ed716df037</td>\n",
       "      <td>2017-01-02</td>\n",
       "      <td>2017-01-01</td>\n",
       "      <td>2</td>\n",
       "      <td>0.0</td>\n",
       "      <td>0</td>\n",
       "      <td>3</td>\n",
       "      <td>1</td>\n",
       "      <td>0</td>\n",
       "      <td>0</td>\n",
       "    </tr>\n",
       "  </tbody>\n",
       "</table>\n",
       "</div>"
      ],
      "text/plain": [
       "           id     actdate     regdate  clusters_ml_ended  revenue  \\\n",
       "0  767bc9dfd3  2017-01-01  2017-01-01                  1      0.0   \n",
       "1  249241537d  2017-01-01  2017-01-01                  3      0.0   \n",
       "2  740d34570d  2017-01-01  2017-01-01                  7      0.0   \n",
       "3  d288a3fd89  2017-01-02  2017-01-02                 -2      0.0   \n",
       "4  ed716df037  2017-01-02  2017-01-01                  2      0.0   \n",
       "\n",
       "   transactions  quests_end  m_quests_end  crystals_value_spend  store_enters  \n",
       "0             0           9             0                     0             0  \n",
       "1             0          49             7                     0             0  \n",
       "2             0         138            25                     0             0  \n",
       "3             0           0             0                     0             0  \n",
       "4             0           3             1                     0             0  "
      ]
     },
     "execution_count": 5,
     "metadata": {},
     "output_type": "execute_result"
    }
   ],
   "source": [
    "pact = pd.read_csv(\"practice_pact_ios.csv\", sep=\"|\", \n",
    "                   names=[\"id\", \n",
    "                          \"actdate\", \n",
    "                          \"regdate\", \n",
    "                          \"clusters_ml_ended\", \n",
    "                          \"revenue\", \n",
    "                          \"transactions\", \n",
    "                          \"quests_end\", \n",
    "                          \"m_quests_end\", \n",
    "                          \"crystals_value_spend\", \n",
    "                          \"store_enters\",\n",
    "                         ])\n",
    "pact.head()"
   ]
  },
  {
   "cell_type": "code",
   "execution_count": 6,
   "metadata": {
    "collapsed": false
   },
   "outputs": [
    {
     "data": {
      "text/html": [
       "<div>\n",
       "<table border=\"1\" class=\"dataframe\">\n",
       "  <thead>\n",
       "    <tr style=\"text-align: right;\">\n",
       "      <th></th>\n",
       "      <th>id</th>\n",
       "      <th>session_number</th>\n",
       "      <th>session_length</th>\n",
       "      <th>session_start_time</th>\n",
       "      <th>session_end_time</th>\n",
       "      <th>actdate</th>\n",
       "    </tr>\n",
       "  </thead>\n",
       "  <tbody>\n",
       "    <tr>\n",
       "      <th>0</th>\n",
       "      <td>00e954a1b3</td>\n",
       "      <td>12.0</td>\n",
       "      <td>29</td>\n",
       "      <td>1486997200</td>\n",
       "      <td>1486997229</td>\n",
       "      <td>2017-02-13</td>\n",
       "    </tr>\n",
       "    <tr>\n",
       "      <th>1</th>\n",
       "      <td>028498cd03</td>\n",
       "      <td>1.0</td>\n",
       "      <td>445</td>\n",
       "      <td>1485039376</td>\n",
       "      <td>1485039821</td>\n",
       "      <td>2017-01-21</td>\n",
       "    </tr>\n",
       "    <tr>\n",
       "      <th>2</th>\n",
       "      <td>12ab1dfa82</td>\n",
       "      <td>8.0</td>\n",
       "      <td>0</td>\n",
       "      <td>1486756815</td>\n",
       "      <td>1486756815</td>\n",
       "      <td>2017-02-10</td>\n",
       "    </tr>\n",
       "    <tr>\n",
       "      <th>3</th>\n",
       "      <td>0a0a1ffe3b</td>\n",
       "      <td>5.0</td>\n",
       "      <td>2846</td>\n",
       "      <td>1484976494</td>\n",
       "      <td>1484979340</td>\n",
       "      <td>2017-01-21</td>\n",
       "    </tr>\n",
       "    <tr>\n",
       "      <th>4</th>\n",
       "      <td>01c68437aa</td>\n",
       "      <td>7.0</td>\n",
       "      <td>1610</td>\n",
       "      <td>1484329332</td>\n",
       "      <td>1484330942</td>\n",
       "      <td>2017-01-13</td>\n",
       "    </tr>\n",
       "  </tbody>\n",
       "</table>\n",
       "</div>"
      ],
      "text/plain": [
       "           id  session_number  session_length  session_start_time  \\\n",
       "0  00e954a1b3            12.0              29          1486997200   \n",
       "1  028498cd03             1.0             445          1485039376   \n",
       "2  12ab1dfa82             8.0               0          1486756815   \n",
       "3  0a0a1ffe3b             5.0            2846          1484976494   \n",
       "4  01c68437aa             7.0            1610          1484329332   \n",
       "\n",
       "   session_end_time     actdate  \n",
       "0        1486997229  2017-02-13  \n",
       "1        1485039821  2017-01-21  \n",
       "2        1486756815  2017-02-10  \n",
       "3        1484979340  2017-01-21  \n",
       "4        1484330942  2017-01-13  "
      ]
     },
     "execution_count": 6,
     "metadata": {},
     "output_type": "execute_result"
    }
   ],
   "source": [
    "sessions = pd.read_csv(\"practice_sessions_ios.csv\", sep=\"|\", \n",
    "                       names=[\"id\", \n",
    "                              \"session_number\", \n",
    "                              \"session_length\", \n",
    "                              \"session_start_time\", \n",
    "                              \"session_end_time\", \n",
    "                              \"actdate\",\n",
    "                             ])\n",
    "sessions.head()"
   ]
  },
  {
   "cell_type": "code",
   "execution_count": 7,
   "metadata": {
    "collapsed": true
   },
   "outputs": [],
   "source": [
    "def to_days(date):\n",
    "    months = [31, 28, 31, 30, 31, 30, 31, 31, 30, 31, 30, 31]\n",
    "    year, month, day = list(map(int, date.split(\"-\")))\n",
    "    days = sum(months[:month - 1]) + day\n",
    "    return days"
   ]
  },
  {
   "cell_type": "code",
   "execution_count": 8,
   "metadata": {
    "collapsed": true
   },
   "outputs": [],
   "source": [
    "dau[\"actday\"] = dau[\"actdate\"].apply(to_days)\n",
    "\n",
    "pact[\"actday\"] = pact[\"actdate\"].apply(to_days)\n",
    "pact[\"regday\"] = pact[\"regdate\"].apply(to_days)\n",
    "pact[\"days_after_reg\"] = pact.actday - pact.regday\n",
    "\n",
    "sessions[\"actday\"] = sessions[\"actdate\"].apply(to_days)"
   ]
  },
  {
   "cell_type": "code",
   "execution_count": 9,
   "metadata": {
    "collapsed": false
   },
   "outputs": [],
   "source": [
    "# train\n",
    "\n",
    "# данные пользователей, которые зарегистрировались в первые 3 месяца\n",
    "# только о событиях в первые 30 дней после регистрации\n",
    "n_months = 3\n",
    "df = pact[np.logical_and(pact.regday <= 30 * n_months, pact.days_after_reg < 30)]\n",
    "\n",
    "# доход с пользователя за первые 30 дней после регистрации\n",
    "month_revenue = df.groupby(\"id\")[\"revenue\", \"transactions\"].sum()\n",
    "\n",
    "# доход только с тех пользователей, которые платили (за 30 дней)\n",
    "month_payers = month_revenue[month_revenue.revenue != 0]\n",
    "\n",
    "# id пользователей, которые платили в течение первых 30 дней после регистрации\n",
    "payers_id = month_payers.index\n",
    "\n",
    "# целевая переменная - доход с (платящего) пользователя за 30 дней\n",
    "y = month_payers.revenue"
   ]
  },
  {
   "cell_type": "code",
   "execution_count": 10,
   "metadata": {
    "collapsed": true
   },
   "outputs": [],
   "source": [
    "# df.to_csv(\"train_df.csv\")"
   ]
  },
  {
   "cell_type": "code",
   "execution_count": 11,
   "metadata": {
    "collapsed": false
   },
   "outputs": [],
   "source": [
    "# test\n",
    "\n",
    "# данные пользователей, которые зарегистрировались в 4ом месяце\n",
    "# только о событиях в первые 30 дней после регистрации\n",
    "n_months_test = 4\n",
    "df_test = pact[np.logical_and(\n",
    "    np.logical_and(pact.regday > 30 * n_months, pact.regday <= 30 * n_months_test), \n",
    "    pact.days_after_reg < 30)]\n",
    "\n",
    "# доход с пользователя за первые 30 дней после регистрации\n",
    "month_revenue_test = df_test.groupby(\"id\")[\"revenue\", \"transactions\"].sum()\n",
    "\n",
    "# доход только с тех пользователей, которые платили (30 дней)\n",
    "month_payers_test = month_revenue_test[month_revenue_test.revenue != 0]\n",
    "\n",
    "# id пользователей, которые платили в течение первых 30 дней после регистрации\n",
    "payers_id_test = month_payers_test.index\n",
    "\n",
    "# целевая переменная - доход с (платящего) пользователя за 30 дней\n",
    "y_test = month_payers_test.revenue"
   ]
  },
  {
   "cell_type": "code",
   "execution_count": 12,
   "metadata": {
    "collapsed": true
   },
   "outputs": [],
   "source": [
    "# df_test.to_csv(\"test_df.csv\")"
   ]
  },
  {
   "cell_type": "code",
   "execution_count": null,
   "metadata": {
    "collapsed": true
   },
   "outputs": [],
   "source": []
  },
  {
   "cell_type": "code",
   "execution_count": 13,
   "metadata": {
    "collapsed": true
   },
   "outputs": [],
   "source": [
    "def get_time_series(days_data, index, col_name, n_days=30, with_nan=False):\n",
    "    days_data = days_data.set_index(index)\n",
    "    t = pd.Series(days_data.loc[:, col_name], index=np.arange(0, n_days))\n",
    "    if not with_nan:\n",
    "        t.fillna(0, inplace=True)\n",
    "    return t.values"
   ]
  },
  {
   "cell_type": "code",
   "execution_count": 14,
   "metadata": {
    "collapsed": true
   },
   "outputs": [],
   "source": [
    "def get_time_series_dataset(grouped_dataset, group_id, feature, period_feature, n_days, with_nan=False):\n",
    "    time_series = np.zeros((group_id.size, n_days))\n",
    "    for i in range(group_id.size):\n",
    "        time_series[i] = get_time_series(grouped_dataset.get_group(group_id[i])[[feature, period_feature]], \n",
    "                                         index=period_feature, col_name=feature, n_days=n_days, with_nan=with_nan)\n",
    "    time_series = pd.DataFrame(time_series, index=group_id, columns=np.arange(1, n_days + 1))\n",
    "    return time_series"
   ]
  },
  {
   "cell_type": "code",
   "execution_count": 15,
   "metadata": {
    "collapsed": true
   },
   "outputs": [],
   "source": [
    "grouped = pd.DataFrame(df.groupby([\"id\", \"days_after_reg\"]).sum()).reset_index()\n",
    "grouped = grouped.groupby(\"id\")\n",
    "grouped_test = pd.DataFrame(df_test.groupby([\"id\", \"days_after_reg\"]).sum()).reset_index()\n",
    "grouped_test = grouped_test.groupby(\"id\")"
   ]
  },
  {
   "cell_type": "code",
   "execution_count": 16,
   "metadata": {
    "collapsed": true
   },
   "outputs": [],
   "source": [
    "n_days = 30\n",
    "payers_revenue_ts = get_time_series_dataset(grouped_dataset=grouped, group_id=payers_id, feature=\"revenue\", period_feature=\"days_after_reg\", n_days=n_days)\n",
    "payers_revenue_ts_test = get_time_series_dataset(grouped_dataset=grouped_test, group_id=payers_id_test, feature=\"revenue\", period_feature=\"days_after_reg\", n_days=n_days)"
   ]
  },
  {
   "cell_type": "code",
   "execution_count": 17,
   "metadata": {
    "collapsed": true
   },
   "outputs": [],
   "source": [
    "n_days = 30\n",
    "payers_quests_ts = get_time_series_dataset(grouped_dataset=grouped, group_id=payers_id, feature=\"quests_end\", period_feature=\"days_after_reg\", n_days=n_days)\n",
    "payers_quests_ts_test = get_time_series_dataset(grouped_dataset=grouped_test, group_id=payers_id_test, feature=\"quests_end\", period_feature=\"days_after_reg\", n_days=n_days)"
   ]
  },
  {
   "cell_type": "code",
   "execution_count": 18,
   "metadata": {
    "collapsed": true
   },
   "outputs": [],
   "source": [
    "n_days = 30\n",
    "payers_m_quests_ts = get_time_series_dataset(grouped_dataset=grouped, group_id=payers_id, feature=\"m_quests_end\", period_feature=\"days_after_reg\", n_days=n_days)\n",
    "payers_m_quests_ts_test = get_time_series_dataset(grouped_dataset=grouped_test, group_id=payers_id_test, feature=\"m_quests_end\", period_feature=\"days_after_reg\", n_days=n_days)"
   ]
  },
  {
   "cell_type": "code",
   "execution_count": 19,
   "metadata": {
    "collapsed": true
   },
   "outputs": [],
   "source": [
    "payers_all_quests_ts = payers_m_quests_ts + payers_quests_ts\n",
    "payers_all_quests_ts_test = payers_m_quests_ts_test + payers_quests_ts_test"
   ]
  },
  {
   "cell_type": "code",
   "execution_count": null,
   "metadata": {
    "collapsed": true
   },
   "outputs": [],
   "source": []
  },
  {
   "cell_type": "code",
   "execution_count": 20,
   "metadata": {
    "collapsed": false
   },
   "outputs": [
    {
     "data": {
      "text/html": [
       "<div>\n",
       "<table border=\"1\" class=\"dataframe\">\n",
       "  <thead>\n",
       "    <tr style=\"text-align: right;\">\n",
       "      <th></th>\n",
       "      <th>id</th>\n",
       "      <th>session_number</th>\n",
       "      <th>session_length</th>\n",
       "      <th>session_start_time</th>\n",
       "      <th>session_end_time</th>\n",
       "      <th>actdate</th>\n",
       "      <th>actday</th>\n",
       "      <th>regday</th>\n",
       "      <th>days_after_reg</th>\n",
       "    </tr>\n",
       "  </thead>\n",
       "  <tbody>\n",
       "    <tr>\n",
       "      <th>0</th>\n",
       "      <td>00e954a1b3</td>\n",
       "      <td>12.0</td>\n",
       "      <td>29</td>\n",
       "      <td>1486997200</td>\n",
       "      <td>1486997229</td>\n",
       "      <td>2017-02-13</td>\n",
       "      <td>44.0</td>\n",
       "      <td>2.0</td>\n",
       "      <td>42.0</td>\n",
       "    </tr>\n",
       "    <tr>\n",
       "      <th>4</th>\n",
       "      <td>01c68437aa</td>\n",
       "      <td>7.0</td>\n",
       "      <td>1610</td>\n",
       "      <td>1484329332</td>\n",
       "      <td>1484330942</td>\n",
       "      <td>2017-01-13</td>\n",
       "      <td>13.0</td>\n",
       "      <td>9.0</td>\n",
       "      <td>4.0</td>\n",
       "    </tr>\n",
       "    <tr>\n",
       "      <th>8</th>\n",
       "      <td>00db2c8373</td>\n",
       "      <td>54.0</td>\n",
       "      <td>725</td>\n",
       "      <td>1486563826</td>\n",
       "      <td>1486564551</td>\n",
       "      <td>2017-02-08</td>\n",
       "      <td>39.0</td>\n",
       "      <td>36.0</td>\n",
       "      <td>3.0</td>\n",
       "    </tr>\n",
       "    <tr>\n",
       "      <th>9</th>\n",
       "      <td>015025c95b</td>\n",
       "      <td>14.0</td>\n",
       "      <td>199</td>\n",
       "      <td>1483641774</td>\n",
       "      <td>1483641973</td>\n",
       "      <td>2017-01-05</td>\n",
       "      <td>5.0</td>\n",
       "      <td>63.0</td>\n",
       "      <td>-58.0</td>\n",
       "    </tr>\n",
       "    <tr>\n",
       "      <th>23</th>\n",
       "      <td>01bbbfa69d</td>\n",
       "      <td>35.0</td>\n",
       "      <td>929</td>\n",
       "      <td>1486652111</td>\n",
       "      <td>1486653040</td>\n",
       "      <td>2017-02-09</td>\n",
       "      <td>40.0</td>\n",
       "      <td>2.0</td>\n",
       "      <td>38.0</td>\n",
       "    </tr>\n",
       "  </tbody>\n",
       "</table>\n",
       "</div>"
      ],
      "text/plain": [
       "            id  session_number  session_length  session_start_time  \\\n",
       "0   00e954a1b3            12.0              29          1486997200   \n",
       "4   01c68437aa             7.0            1610          1484329332   \n",
       "8   00db2c8373            54.0             725          1486563826   \n",
       "9   015025c95b            14.0             199          1483641774   \n",
       "23  01bbbfa69d            35.0             929          1486652111   \n",
       "\n",
       "    session_end_time     actdate  actday  regday  days_after_reg  \n",
       "0         1486997229  2017-02-13    44.0     2.0            42.0  \n",
       "4         1484330942  2017-01-13    13.0     9.0             4.0  \n",
       "8         1486564551  2017-02-08    39.0    36.0             3.0  \n",
       "9         1483641973  2017-01-05     5.0    63.0           -58.0  \n",
       "23        1486653040  2017-02-09    40.0     2.0            38.0  "
      ]
     },
     "execution_count": 20,
     "metadata": {},
     "output_type": "execute_result"
    }
   ],
   "source": [
    "payers_regday = df.loc[df.id.isin(payers_id), :].groupby(\"id\")[\"regday\"].first()\n",
    "payers_session = sessions.loc[sessions.id.isin(payers_id)]\n",
    "payers_session = payers_session.join(payers_regday, on=\"id\")\n",
    "payers_session[\"days_after_reg\"] = payers_session.actday - payers_session.regday\n",
    "payers_session.head()"
   ]
  },
  {
   "cell_type": "code",
   "execution_count": 21,
   "metadata": {
    "collapsed": false
   },
   "outputs": [],
   "source": [
    "# сессии платящих игроков в течение первых 30 после регистрации\n",
    "month_payers_session = payers_session.loc[payers_session.days_after_reg < 30, :]\n",
    "grouped = pd.DataFrame(month_payers_session.groupby([\"id\", \"days_after_reg\"]).session_length.sum()).reset_index()\n",
    "grouped = grouped.groupby(\"id\")"
   ]
  },
  {
   "cell_type": "code",
   "execution_count": 22,
   "metadata": {
    "collapsed": false
   },
   "outputs": [
    {
     "data": {
      "text/html": [
       "<div>\n",
       "<table border=\"1\" class=\"dataframe\">\n",
       "  <thead>\n",
       "    <tr style=\"text-align: right;\">\n",
       "      <th></th>\n",
       "      <th>id</th>\n",
       "      <th>session_number</th>\n",
       "      <th>session_length</th>\n",
       "      <th>session_start_time</th>\n",
       "      <th>session_end_time</th>\n",
       "      <th>actdate</th>\n",
       "      <th>actday</th>\n",
       "      <th>regday</th>\n",
       "      <th>days_after_reg</th>\n",
       "    </tr>\n",
       "  </thead>\n",
       "  <tbody>\n",
       "    <tr>\n",
       "      <th>167</th>\n",
       "      <td>00f6480332</td>\n",
       "      <td>16.0</td>\n",
       "      <td>0</td>\n",
       "      <td>1484775488</td>\n",
       "      <td>1484775488</td>\n",
       "      <td>2017-01-18</td>\n",
       "      <td>18.0</td>\n",
       "      <td>105.0</td>\n",
       "      <td>-87.0</td>\n",
       "    </tr>\n",
       "    <tr>\n",
       "      <th>226</th>\n",
       "      <td>00f6480332</td>\n",
       "      <td>2.0</td>\n",
       "      <td>118</td>\n",
       "      <td>1484281508</td>\n",
       "      <td>1484281626</td>\n",
       "      <td>2017-01-13</td>\n",
       "      <td>13.0</td>\n",
       "      <td>105.0</td>\n",
       "      <td>-92.0</td>\n",
       "    </tr>\n",
       "    <tr>\n",
       "      <th>278</th>\n",
       "      <td>00f6480332</td>\n",
       "      <td>1.0</td>\n",
       "      <td>89</td>\n",
       "      <td>1485390415</td>\n",
       "      <td>1485390504</td>\n",
       "      <td>2017-01-26</td>\n",
       "      <td>26.0</td>\n",
       "      <td>105.0</td>\n",
       "      <td>-79.0</td>\n",
       "    </tr>\n",
       "    <tr>\n",
       "      <th>420</th>\n",
       "      <td>00f6480332</td>\n",
       "      <td>12.0</td>\n",
       "      <td>88</td>\n",
       "      <td>1485022078</td>\n",
       "      <td>1485022166</td>\n",
       "      <td>2017-01-21</td>\n",
       "      <td>21.0</td>\n",
       "      <td>105.0</td>\n",
       "      <td>-84.0</td>\n",
       "    </tr>\n",
       "    <tr>\n",
       "      <th>446</th>\n",
       "      <td>00f6480332</td>\n",
       "      <td>12.0</td>\n",
       "      <td>115</td>\n",
       "      <td>1483290646</td>\n",
       "      <td>1483290761</td>\n",
       "      <td>2017-01-01</td>\n",
       "      <td>1.0</td>\n",
       "      <td>105.0</td>\n",
       "      <td>-104.0</td>\n",
       "    </tr>\n",
       "  </tbody>\n",
       "</table>\n",
       "</div>"
      ],
      "text/plain": [
       "             id  session_number  session_length  session_start_time  \\\n",
       "167  00f6480332            16.0               0          1484775488   \n",
       "226  00f6480332             2.0             118          1484281508   \n",
       "278  00f6480332             1.0              89          1485390415   \n",
       "420  00f6480332            12.0              88          1485022078   \n",
       "446  00f6480332            12.0             115          1483290646   \n",
       "\n",
       "     session_end_time     actdate  actday  regday  days_after_reg  \n",
       "167        1484775488  2017-01-18    18.0   105.0           -87.0  \n",
       "226        1484281626  2017-01-13    13.0   105.0           -92.0  \n",
       "278        1485390504  2017-01-26    26.0   105.0           -79.0  \n",
       "420        1485022166  2017-01-21    21.0   105.0           -84.0  \n",
       "446        1483290761  2017-01-01     1.0   105.0          -104.0  "
      ]
     },
     "execution_count": 22,
     "metadata": {},
     "output_type": "execute_result"
    }
   ],
   "source": [
    "payers_regday_test = df_test.loc[df_test.id.isin(payers_id_test), :].groupby(\"id\")[\"regday\"].first()\n",
    "payers_session_test = sessions.loc[sessions.id.isin(payers_id_test)]\n",
    "payers_session_test = payers_session_test.join(payers_regday_test, on=\"id\")\n",
    "payers_session_test[\"days_after_reg\"] = payers_session_test.actday - payers_session_test.regday\n",
    "payers_session_test.head()"
   ]
  },
  {
   "cell_type": "code",
   "execution_count": 23,
   "metadata": {
    "collapsed": false
   },
   "outputs": [],
   "source": [
    "# сессии платящих игроков в течение первых 30 после регистрации\n",
    "month_payers_session_test = payers_session_test.loc[payers_session_test.days_after_reg < 30, :]\n",
    "grouped_test = pd.DataFrame(month_payers_session_test.groupby([\"id\", \"days_after_reg\"]).session_length.sum()).reset_index()\n",
    "grouped_test = grouped_test.groupby(\"id\")"
   ]
  },
  {
   "cell_type": "code",
   "execution_count": 24,
   "metadata": {
    "collapsed": true
   },
   "outputs": [],
   "source": [
    "n_days = 30\n",
    "payers_session_ts = get_time_series_dataset(grouped_dataset=grouped, group_id=payers_id, feature=\"session_length\", period_feature=\"days_after_reg\", n_days=n_days)\n",
    "payers_session_ts_test = get_time_series_dataset(grouped_dataset=grouped_test, group_id=payers_id_test, feature=\"session_length\", period_feature=\"days_after_reg\", n_days=n_days)"
   ]
  },
  {
   "cell_type": "code",
   "execution_count": null,
   "metadata": {
    "collapsed": true
   },
   "outputs": [],
   "source": []
  },
  {
   "cell_type": "code",
   "execution_count": 25,
   "metadata": {
    "collapsed": true
   },
   "outputs": [],
   "source": [
    "# коэффициенты регрессий по временным рядам (по значениям признаков в первые 7 дней)"
   ]
  },
  {
   "cell_type": "code",
   "execution_count": 26,
   "metadata": {
    "collapsed": true
   },
   "outputs": [],
   "source": [
    "def get_lr_coefs(time_series, n_train_days, start_day=0, prefix=\"lr_\", with_nan=False, feature_func=None):\n",
    "    n_obj = time_series.shape[0]\n",
    "    lr_coefs = np.zeros((n_obj, 2))\n",
    "    for i in range(n_obj):\n",
    "        lr = LinearRegression()\n",
    "        Xi = np.arange(start_day, n_train_days).reshape(-1, 1)\n",
    "        if feature_func is not None:\n",
    "            Xi = feature_func(Xi)\n",
    "        yi = time_series.iloc[i, start_day:n_train_days].values\n",
    "        if with_nan:\n",
    "            yi = yi[np.logical_not(np.isnan(yi))]\n",
    "            Xi = np.arange(0, yi.size).reshape(-1, 1)\n",
    "        lr.fit(Xi, yi)\n",
    "        lr_coefs[i] = [lr.intercept_] + lr.coef_.tolist()\n",
    "    col = list(map(lambda x: prefix + str(x), np.arange(2)))\n",
    "    lr_coefs = pd.DataFrame(lr_coefs, index=time_series.index, columns=col)\n",
    "    return lr_coefs"
   ]
  },
  {
   "cell_type": "code",
   "execution_count": 27,
   "metadata": {
    "collapsed": false
   },
   "outputs": [],
   "source": [
    "n_train_days = 7\n",
    "sessions_lr_coefs = get_lr_coefs(payers_session_ts, n_train_days=7, start_day=0, prefix=\"sessions_lr_\")\n",
    "sessions_lr_coefs_test = get_lr_coefs(payers_session_ts_test, n_train_days=7, start_day=0, prefix=\"sessions_lr_\")\n",
    "\n",
    "revenue_lr_coefs = get_lr_coefs(payers_revenue_ts, n_train_days=7, start_day=0, prefix=\"revenue_lr_\")\n",
    "revenue_lr_coefs_test = get_lr_coefs(payers_revenue_ts_test, n_train_days=7, start_day=0, prefix=\"revenue_lr_\")\n",
    "\n",
    "all_quests_lr_coefs = get_lr_coefs(payers_all_quests_ts, n_train_days=7, start_day=0, prefix=\"all_quests_lr_\")\n",
    "all_quests_lr_coefs_test = get_lr_coefs(payers_all_quests_ts_test, n_train_days=7, start_day=0, prefix=\"all_quests_lr_\")"
   ]
  },
  {
   "cell_type": "code",
   "execution_count": null,
   "metadata": {
    "collapsed": true
   },
   "outputs": [],
   "source": []
  },
  {
   "cell_type": "code",
   "execution_count": 28,
   "metadata": {
    "collapsed": true
   },
   "outputs": [],
   "source": [
    "# коэффициенты регрессий для отношений признаков"
   ]
  },
  {
   "cell_type": "code",
   "execution_count": 29,
   "metadata": {
    "collapsed": true
   },
   "outputs": [],
   "source": [
    "revenue_all_quests_lr_coefs = get_lr_coefs((payers_revenue_ts / (payers_all_quests_ts + 1)), n_train_days=7, start_day=0, prefix=\"revenue/all_quests_lr_\")\n",
    "revenue_all_quests_lr_coefs_test = get_lr_coefs((payers_revenue_ts_test / (payers_all_quests_ts_test + 1)), n_train_days=7, start_day=0, prefix=\"revenue/all_quests_lr_\")\n",
    "\n",
    "all_quests_revenue_lr_coefs = get_lr_coefs((payers_all_quests_ts / (payers_revenue_ts + 1)), n_train_days=7, start_day=0, prefix=\"all_quests/revenue_lr_\")\n",
    "all_quests_revenue_lr_coefs_test = get_lr_coefs((payers_all_quests_ts_test / (payers_revenue_ts_test + 1)), n_train_days=7, start_day=0, prefix=\"all_quests/revenue_lr_\")\n",
    "\n",
    "revenue_sessions_lr_coefs = get_lr_coefs((payers_revenue_ts / (payers_session_ts.values + 1)), n_train_days=7, start_day=0, prefix=\"revenue/sessions_lr_\")\n",
    "revenue_sessions_lr_coefs_test = get_lr_coefs((payers_revenue_ts_test / (payers_session_ts_test.values + 1)), n_train_days=7, start_day=0, prefix=\"revenue/sessions_lr_\")\n",
    "\n",
    "all_quests_sessions_lr_coefs = get_lr_coefs((payers_all_quests_ts / (payers_session_ts.values + 1)), n_train_days=7, start_day=0, prefix=\"all_quests/sessions_lr_\")\n",
    "all_quests_sessions_lr_coefs_test = get_lr_coefs((payers_all_quests_ts_test / (payers_session_ts_test.values + 1)), n_train_days=7, start_day=0, prefix=\"all_quests/sessions_lr_\")"
   ]
  },
  {
   "cell_type": "code",
   "execution_count": null,
   "metadata": {
    "collapsed": true
   },
   "outputs": [],
   "source": []
  },
  {
   "cell_type": "code",
   "execution_count": 30,
   "metadata": {
    "collapsed": true
   },
   "outputs": [],
   "source": [
    "# число посещений за 7 дней"
   ]
  },
  {
   "cell_type": "code",
   "execution_count": 31,
   "metadata": {
    "collapsed": true
   },
   "outputs": [],
   "source": [
    "payers_session[\"visit\"] = np.ones(payers_session.shape[0])\n",
    "payers_session_test[\"visit\"] = np.ones(payers_session_test.shape[0])"
   ]
  },
  {
   "cell_type": "code",
   "execution_count": 32,
   "metadata": {
    "collapsed": true
   },
   "outputs": [],
   "source": [
    "grouped = pd.DataFrame(payers_session.groupby([\"id\", \"days_after_reg\"]).sum()).reset_index()\n",
    "grouped = grouped.groupby(\"id\")\n",
    "grouped_test = pd.DataFrame(payers_session_test.groupby([\"id\", \"days_after_reg\"]).sum()).reset_index()\n",
    "grouped_test = grouped_test.groupby(\"id\")"
   ]
  },
  {
   "cell_type": "code",
   "execution_count": 33,
   "metadata": {
    "collapsed": true
   },
   "outputs": [],
   "source": [
    "n_days = 30\n",
    "payers_visit_ts = get_time_series_dataset(grouped_dataset=grouped, group_id=payers_id, feature=\"visit\", period_feature=\"days_after_reg\", n_days=n_days)\n",
    "payers_visit_ts_test = get_time_series_dataset(grouped_dataset=grouped_test, group_id=payers_id_test, feature=\"visit\", period_feature=\"days_after_reg\", n_days=n_days)"
   ]
  },
  {
   "cell_type": "code",
   "execution_count": 34,
   "metadata": {
    "collapsed": true
   },
   "outputs": [],
   "source": [
    "# число дней, когда пользователь заходил в игру"
   ]
  },
  {
   "cell_type": "code",
   "execution_count": 35,
   "metadata": {
    "collapsed": true
   },
   "outputs": [],
   "source": [
    "payers_visit_nan_ts = get_time_series_dataset(grouped_dataset=grouped, group_id=payers_id, feature=\"visit\", period_feature=\"days_after_reg\", n_days=n_days, with_nan=True)\n",
    "payers_visit_nan_ts_test = get_time_series_dataset(grouped_dataset=grouped_test, group_id=payers_id_test, feature=\"visit\", period_feature=\"days_after_reg\", n_days=n_days, with_nan=True)\n",
    "\n",
    "payers_visit_days_ts = payers_visit_nan_ts.notnull()\n",
    "payers_visit_days_ts_test = payers_visit_nan_ts_test.notnull()"
   ]
  },
  {
   "cell_type": "code",
   "execution_count": 36,
   "metadata": {
    "collapsed": true
   },
   "outputs": [],
   "source": [
    "# число оплат за 7 дней"
   ]
  },
  {
   "cell_type": "code",
   "execution_count": 37,
   "metadata": {
    "collapsed": true
   },
   "outputs": [],
   "source": [
    "grouped = pd.DataFrame(df.groupby([\"id\", \"days_after_reg\"]).sum()).reset_index()\n",
    "grouped = grouped.groupby(\"id\")\n",
    "grouped_test = pd.DataFrame(df_test.groupby([\"id\", \"days_after_reg\"]).sum()).reset_index()\n",
    "grouped_test = grouped_test.groupby(\"id\")"
   ]
  },
  {
   "cell_type": "code",
   "execution_count": 38,
   "metadata": {
    "collapsed": false
   },
   "outputs": [],
   "source": [
    "n_days = 30\n",
    "payers_transactions_ts = get_time_series_dataset(grouped_dataset=grouped, group_id=payers_id, feature=\"transactions\", period_feature=\"days_after_reg\", n_days=n_days)\n",
    "payers_transactions_ts_test = get_time_series_dataset(grouped_dataset=grouped_test, group_id=payers_id_test, feature=\"transactions\", period_feature=\"days_after_reg\", n_days=n_days)"
   ]
  },
  {
   "cell_type": "code",
   "execution_count": null,
   "metadata": {
    "collapsed": true
   },
   "outputs": [],
   "source": []
  },
  {
   "cell_type": "code",
   "execution_count": null,
   "metadata": {
    "collapsed": true
   },
   "outputs": [],
   "source": []
  },
  {
   "cell_type": "code",
   "execution_count": null,
   "metadata": {
    "collapsed": true
   },
   "outputs": [],
   "source": []
  },
  {
   "cell_type": "code",
   "execution_count": 39,
   "metadata": {
    "collapsed": true
   },
   "outputs": [],
   "source": [
    "# 10 самых популярных стран"
   ]
  },
  {
   "cell_type": "code",
   "execution_count": 40,
   "metadata": {
    "collapsed": true
   },
   "outputs": [],
   "source": [
    "payers_dau = dau[dau.id.isin(payers_id)]\n",
    "payers_dau_test = dau[dau.id.isin(payers_id_test)]"
   ]
  },
  {
   "cell_type": "code",
   "execution_count": 41,
   "metadata": {
    "collapsed": true
   },
   "outputs": [],
   "source": [
    "payers_dau.country.fillna(\"__\", inplace=True)\n",
    "payers_dau_test.country.fillna(\"__\", inplace=True)"
   ]
  },
  {
   "cell_type": "code",
   "execution_count": 42,
   "metadata": {
    "collapsed": true
   },
   "outputs": [],
   "source": [
    "payers_country = pd.Series(payers_dau.groupby(\"id\").country.first())\n",
    "payers_country_test = pd.Series(payers_dau_test.groupby(\"id\").country.first())"
   ]
  },
  {
   "cell_type": "code",
   "execution_count": 43,
   "metadata": {
    "collapsed": true
   },
   "outputs": [],
   "source": [
    "top_countries = payers_country.value_counts()"
   ]
  },
  {
   "cell_type": "code",
   "execution_count": 44,
   "metadata": {
    "collapsed": true
   },
   "outputs": [],
   "source": [
    "l_enc = LabelEncoder()\n",
    "payers_dau.country = l_enc.fit_transform(payers_dau.country)\n",
    "payers_dau_test.loc[np.logical_not(payers_dau_test.country.isin(l_enc.classes_)), \"country\"] = \"__\"\n",
    "payers_dau_test.country = l_enc.transform(payers_dau_test.country)"
   ]
  },
  {
   "cell_type": "code",
   "execution_count": 45,
   "metadata": {
    "collapsed": true
   },
   "outputs": [],
   "source": [
    "oh_enc = OneHotEncoder(sparse=False)\n",
    "payers_country = pd.DataFrame(oh_enc.fit_transform(payers_dau.country.values.reshape(-1, 1)),\n",
    "                              columns=l_enc.classes_, index=payers_dau.index)\n",
    "payers_country_test = pd.DataFrame(oh_enc.transform(payers_dau_test.country.values.reshape(-1, 1)),\n",
    "                              columns=l_enc.classes_, index=payers_dau_test.index)"
   ]
  },
  {
   "cell_type": "code",
   "execution_count": 46,
   "metadata": {
    "collapsed": true
   },
   "outputs": [],
   "source": [
    "payers_dau = pd.concat((payers_dau, payers_country), axis=1)\n",
    "payers_country = pd.DataFrame(payers_dau.groupby(\"id\")[payers_dau.columns[5:]].any(), dtype=int)\n",
    "payers_dau_test = pd.concat((payers_dau_test, payers_country_test), axis=1)\n",
    "payers_country_test = pd.DataFrame(payers_dau_test.groupby(\"id\")[payers_dau_test.columns[5:]].any(), dtype=int)"
   ]
  },
  {
   "cell_type": "code",
   "execution_count": null,
   "metadata": {
    "collapsed": true
   },
   "outputs": [],
   "source": []
  },
  {
   "cell_type": "code",
   "execution_count": 47,
   "metadata": {
    "collapsed": true
   },
   "outputs": [],
   "source": [
    "# модель"
   ]
  },
  {
   "cell_type": "code",
   "execution_count": 48,
   "metadata": {
    "collapsed": true
   },
   "outputs": [],
   "source": [
    "def rmse(y_true, y_pred):\n",
    "    return np.sqrt(mean_squared_error(y_true, y_pred))"
   ]
  },
  {
   "cell_type": "code",
   "execution_count": 49,
   "metadata": {
    "collapsed": true
   },
   "outputs": [],
   "source": [
    "def train_model(X, y, X_test, y_test, model, lower_bound=None):\n",
    "    model.fit(X, y)\n",
    "    y_pred = model.predict(X)\n",
    "    y_pred_test = model.predict(X_test)\n",
    "    \n",
    "    if lower_bound is not None:\n",
    "        y_pred[y_pred < lower_bound] = lower_bound\n",
    "        y_pred_test[y_pred_test < lower_bound] = lower_bound\n",
    "    \n",
    "    print(\"R2\", r2_score(y, y_pred), r2_score(y_test, y_pred_test))\n",
    "    print(\"MAE\", mean_absolute_error(y, y_pred), mean_absolute_error(y_test, y_pred_test))\n",
    "    print(\"RMSE\", rmse(y, y_pred), rmse(y_test, y_pred_test))\n",
    "    return model, y_pred, y_pred_test"
   ]
  },
  {
   "cell_type": "code",
   "execution_count": 50,
   "metadata": {
    "collapsed": false
   },
   "outputs": [
    {
     "data": {
      "text/html": [
       "<div>\n",
       "<table border=\"1\" class=\"dataframe\">\n",
       "  <thead>\n",
       "    <tr style=\"text-align: right;\">\n",
       "      <th></th>\n",
       "      <th>sessions_lr_0</th>\n",
       "      <th>sessions_lr_1</th>\n",
       "      <th>all_quests_lr_0</th>\n",
       "      <th>all_quests_lr_1</th>\n",
       "      <th>revenue_lr_0</th>\n",
       "      <th>revenue_lr_1</th>\n",
       "      <th>revenue/all_quests_lr_0</th>\n",
       "      <th>revenue/all_quests_lr_1</th>\n",
       "      <th>revenue/sessions_lr_0</th>\n",
       "      <th>revenue/sessions_lr_1</th>\n",
       "      <th>...</th>\n",
       "      <th>CH</th>\n",
       "      <th>RU</th>\n",
       "      <th>CA</th>\n",
       "      <th>SE</th>\n",
       "      <th>SG</th>\n",
       "      <th>visit_days7</th>\n",
       "      <th>visit_days7_2</th>\n",
       "      <th>revenue/visit_days7</th>\n",
       "      <th>visit_days/revenue7</th>\n",
       "      <th>revenue||visit_days7</th>\n",
       "    </tr>\n",
       "    <tr>\n",
       "      <th>id</th>\n",
       "      <th></th>\n",
       "      <th></th>\n",
       "      <th></th>\n",
       "      <th></th>\n",
       "      <th></th>\n",
       "      <th></th>\n",
       "      <th></th>\n",
       "      <th></th>\n",
       "      <th></th>\n",
       "      <th></th>\n",
       "      <th></th>\n",
       "      <th></th>\n",
       "      <th></th>\n",
       "      <th></th>\n",
       "      <th></th>\n",
       "      <th></th>\n",
       "      <th></th>\n",
       "      <th></th>\n",
       "      <th></th>\n",
       "      <th></th>\n",
       "      <th></th>\n",
       "    </tr>\n",
       "  </thead>\n",
       "  <tbody>\n",
       "    <tr>\n",
       "      <th>0001a94437</th>\n",
       "      <td>2959.107143</td>\n",
       "      <td>-199.750000</td>\n",
       "      <td>36.392857</td>\n",
       "      <td>-4.464286</td>\n",
       "      <td>120.355714</td>\n",
       "      <td>-2.525871e-16</td>\n",
       "      <td>15.044464</td>\n",
       "      <td>-3.157339e-17</td>\n",
       "      <td>0.126424</td>\n",
       "      <td>-1.337399e-18</td>\n",
       "      <td>...</td>\n",
       "      <td>0</td>\n",
       "      <td>0</td>\n",
       "      <td>0</td>\n",
       "      <td>0</td>\n",
       "      <td>0</td>\n",
       "      <td>7</td>\n",
       "      <td>49</td>\n",
       "      <td>105.31125</td>\n",
       "      <td>0.008299</td>\n",
       "      <td>0.476140</td>\n",
       "    </tr>\n",
       "    <tr>\n",
       "      <th>00166affd5</th>\n",
       "      <td>5078.785714</td>\n",
       "      <td>-905.357143</td>\n",
       "      <td>84.000000</td>\n",
       "      <td>-16.000000</td>\n",
       "      <td>3872.050000</td>\n",
       "      <td>-8.935500e+02</td>\n",
       "      <td>27.461348</td>\n",
       "      <td>-6.337234e+00</td>\n",
       "      <td>0.447947</td>\n",
       "      <td>-1.033723e-01</td>\n",
       "      <td>...</td>\n",
       "      <td>0</td>\n",
       "      <td>0</td>\n",
       "      <td>0</td>\n",
       "      <td>0</td>\n",
       "      <td>0</td>\n",
       "      <td>7</td>\n",
       "      <td>49</td>\n",
       "      <td>1042.47500</td>\n",
       "      <td>0.000839</td>\n",
       "      <td>0.635740</td>\n",
       "    </tr>\n",
       "    <tr>\n",
       "      <th>00196c3ade</th>\n",
       "      <td>2498.964286</td>\n",
       "      <td>-487.892857</td>\n",
       "      <td>34.928571</td>\n",
       "      <td>-6.928571</td>\n",
       "      <td>1061.622500</td>\n",
       "      <td>-1.516604e+02</td>\n",
       "      <td>66.351406</td>\n",
       "      <td>-9.478772e+00</td>\n",
       "      <td>0.765409</td>\n",
       "      <td>-1.093442e-01</td>\n",
       "      <td>...</td>\n",
       "      <td>0</td>\n",
       "      <td>0</td>\n",
       "      <td>0</td>\n",
       "      <td>0</td>\n",
       "      <td>0</td>\n",
       "      <td>3</td>\n",
       "      <td>9</td>\n",
       "      <td>1061.62250</td>\n",
       "      <td>0.000706</td>\n",
       "      <td>-1.609188</td>\n",
       "    </tr>\n",
       "    <tr>\n",
       "      <th>00286111e8</th>\n",
       "      <td>3177.571429</td>\n",
       "      <td>-733.285714</td>\n",
       "      <td>38.071429</td>\n",
       "      <td>-8.785714</td>\n",
       "      <td>7894.240714</td>\n",
       "      <td>-1.821748e+03</td>\n",
       "      <td>95.111334</td>\n",
       "      <td>-2.194877e+01</td>\n",
       "      <td>1.153286</td>\n",
       "      <td>-2.661429e-01</td>\n",
       "      <td>...</td>\n",
       "      <td>0</td>\n",
       "      <td>0</td>\n",
       "      <td>0</td>\n",
       "      <td>0</td>\n",
       "      <td>0</td>\n",
       "      <td>1</td>\n",
       "      <td>1</td>\n",
       "      <td>8501.49000</td>\n",
       "      <td>0.000059</td>\n",
       "      <td>-2.416529</td>\n",
       "    </tr>\n",
       "    <tr>\n",
       "      <th>003693070b</th>\n",
       "      <td>7395.142857</td>\n",
       "      <td>-658.428571</td>\n",
       "      <td>102.250000</td>\n",
       "      <td>-12.607143</td>\n",
       "      <td>9665.232500</td>\n",
       "      <td>-5.151589e+02</td>\n",
       "      <td>54.199175</td>\n",
       "      <td>1.887746e+01</td>\n",
       "      <td>1.008770</td>\n",
       "      <td>8.082610e-02</td>\n",
       "      <td>...</td>\n",
       "      <td>0</td>\n",
       "      <td>0</td>\n",
       "      <td>0</td>\n",
       "      <td>0</td>\n",
       "      <td>0</td>\n",
       "      <td>7</td>\n",
       "      <td>49</td>\n",
       "      <td>7104.78625</td>\n",
       "      <td>0.000123</td>\n",
       "      <td>1.668153</td>\n",
       "    </tr>\n",
       "  </tbody>\n",
       "</table>\n",
       "<p>5 rows × 30 columns</p>\n",
       "</div>"
      ],
      "text/plain": [
       "            sessions_lr_0  sessions_lr_1  all_quests_lr_0  all_quests_lr_1  \\\n",
       "id                                                                           \n",
       "0001a94437    2959.107143    -199.750000        36.392857        -4.464286   \n",
       "00166affd5    5078.785714    -905.357143        84.000000       -16.000000   \n",
       "00196c3ade    2498.964286    -487.892857        34.928571        -6.928571   \n",
       "00286111e8    3177.571429    -733.285714        38.071429        -8.785714   \n",
       "003693070b    7395.142857    -658.428571       102.250000       -12.607143   \n",
       "\n",
       "            revenue_lr_0  revenue_lr_1  revenue/all_quests_lr_0  \\\n",
       "id                                                                \n",
       "0001a94437    120.355714 -2.525871e-16                15.044464   \n",
       "00166affd5   3872.050000 -8.935500e+02                27.461348   \n",
       "00196c3ade   1061.622500 -1.516604e+02                66.351406   \n",
       "00286111e8   7894.240714 -1.821748e+03                95.111334   \n",
       "003693070b   9665.232500 -5.151589e+02                54.199175   \n",
       "\n",
       "            revenue/all_quests_lr_1  revenue/sessions_lr_0  \\\n",
       "id                                                           \n",
       "0001a94437            -3.157339e-17               0.126424   \n",
       "00166affd5            -6.337234e+00               0.447947   \n",
       "00196c3ade            -9.478772e+00               0.765409   \n",
       "00286111e8            -2.194877e+01               1.153286   \n",
       "003693070b             1.887746e+01               1.008770   \n",
       "\n",
       "            revenue/sessions_lr_1          ...           CH  RU  CA  SE  SG  \\\n",
       "id                                         ...                                \n",
       "0001a94437          -1.337399e-18          ...            0   0   0   0   0   \n",
       "00166affd5          -1.033723e-01          ...            0   0   0   0   0   \n",
       "00196c3ade          -1.093442e-01          ...            0   0   0   0   0   \n",
       "00286111e8          -2.661429e-01          ...            0   0   0   0   0   \n",
       "003693070b           8.082610e-02          ...            0   0   0   0   0   \n",
       "\n",
       "            visit_days7  visit_days7_2  revenue/visit_days7  \\\n",
       "id                                                            \n",
       "0001a94437            7             49            105.31125   \n",
       "00166affd5            7             49           1042.47500   \n",
       "00196c3ade            3              9           1061.62250   \n",
       "00286111e8            1              1           8501.49000   \n",
       "003693070b            7             49           7104.78625   \n",
       "\n",
       "            visit_days/revenue7  revenue||visit_days7  \n",
       "id                                                     \n",
       "0001a94437             0.008299              0.476140  \n",
       "00166affd5             0.000839              0.635740  \n",
       "00196c3ade             0.000706             -1.609188  \n",
       "00286111e8             0.000059             -2.416529  \n",
       "003693070b             0.000123              1.668153  \n",
       "\n",
       "[5 rows x 30 columns]"
      ]
     },
     "execution_count": 50,
     "metadata": {},
     "output_type": "execute_result"
    }
   ],
   "source": [
    "# X1 = payers_all_quests_ts.iloc[:, :7].join(payers_revenue_ts.iloc[:, :7], lsuffix=\"all_quests\", rsuffix=\"revenue_\").join(payers_session_ts.iloc[:, :7], rsuffix=\"session_\")\n",
    "\n",
    "# коэффициенты регрессий по временным рядам\n",
    "X1 = sessions_lr_coefs.join(all_quests_lr_coefs).join(revenue_lr_coefs)\n",
    "\n",
    "# коэффициенты регрессий для отношений признаков\n",
    "X1 = X1.join(revenue_all_quests_lr_coefs).join(revenue_sessions_lr_coefs)\n",
    "X1 = X1.join(all_quests_revenue_lr_coefs).join(all_quests_sessions_lr_coefs)\n",
    "\n",
    "# число посещений за 7 дней\n",
    "# X1[\"visit7\"] = payers_visit_ts.iloc[:, :7].sum(axis=1)\n",
    "\n",
    "# число оплат за 7 дней\n",
    "X1[\"transactions7\"] = payers_transactions_ts.iloc[:, :7].sum(axis=1)\n",
    "\n",
    "# 10 самых популярных стран\n",
    "X1 = X1.join(payers_country[top_countries[:10].index])\n",
    "\n",
    "# число дней посещений за 7 дней\n",
    "X1[\"visit_days7\"] = payers_visit_days_ts.iloc[:, :7].sum(axis=1)\n",
    "X1[\"visit_days7_2\"] = payers_visit_days_ts.iloc[:, :7].sum(axis=1) ** 2\n",
    "\n",
    "# число оплат / число посещений\n",
    "# X1[\"transactions/visits7\"] = payers_transactions_ts.iloc[:, :7].sum(axis=1) / (payers_visit_ts.iloc[:, :7].sum(axis=1) + 1)\n",
    "# X1[\"transactions/visit_days7\"] = payers_transactions_ts.iloc[:, :7].sum(axis=1) / (payers_visit_days_ts.iloc[:, :7].sum(axis=1) + 1)\n",
    "\n",
    "# суммарный доход / число посещений\n",
    "X1[\"revenue/visit_days7\"] = payers_revenue_ts.iloc[:, :7].sum(axis=1) / (payers_visit_days_ts.iloc[:, :7].sum(axis=1) + 1)\n",
    "X1[\"visit_days/revenue7\"] = payers_visit_days_ts.iloc[:, :7].sum(axis=1) / (payers_revenue_ts.iloc[:, :7].sum(axis=1) + 1)\n",
    "\n",
    "\n",
    "X1[\"revenue||visit_days7\"] = StandardScaler().fit_transform(payers_revenue_ts.iloc[:, :7].sum(axis=1)) \\\n",
    "+ StandardScaler().fit_transform(payers_visit_days_ts.iloc[:, :7].sum(axis=1))\n",
    "# X1[\"all_quests&&visit_days7\"] = StandardScaler().fit_transform(payers_all_quests_ts.iloc[:, :7].sum(axis=1)) \\\n",
    "# * StandardScaler().fit_transform(payers_visit_days_ts.iloc[:, :7].sum(axis=1))\n",
    "# X1[\"all_quests&&session7\"] = StandardScaler().fit_transform(payers_all_quests_ts.iloc[:, :7].sum(axis=1)) \\\n",
    "# * StandardScaler().fit_transform(payers_session_ts.iloc[:, :7].sum(axis=1))\n",
    "\n",
    "\n",
    "X1.head()"
   ]
  },
  {
   "cell_type": "code",
   "execution_count": 51,
   "metadata": {
    "collapsed": false
   },
   "outputs": [
    {
     "data": {
      "text/html": [
       "<div>\n",
       "<table border=\"1\" class=\"dataframe\">\n",
       "  <thead>\n",
       "    <tr style=\"text-align: right;\">\n",
       "      <th></th>\n",
       "      <th>sessions_lr_0</th>\n",
       "      <th>sessions_lr_1</th>\n",
       "      <th>all_quests_lr_0</th>\n",
       "      <th>all_quests_lr_1</th>\n",
       "      <th>revenue_lr_0</th>\n",
       "      <th>revenue_lr_1</th>\n",
       "      <th>revenue/all_quests_lr_0</th>\n",
       "      <th>revenue/all_quests_lr_1</th>\n",
       "      <th>revenue/sessions_lr_0</th>\n",
       "      <th>revenue/sessions_lr_1</th>\n",
       "      <th>...</th>\n",
       "      <th>CH</th>\n",
       "      <th>RU</th>\n",
       "      <th>CA</th>\n",
       "      <th>SE</th>\n",
       "      <th>SG</th>\n",
       "      <th>visit_days7</th>\n",
       "      <th>visit_days7_2</th>\n",
       "      <th>revenue/visit_days7</th>\n",
       "      <th>visit_days/revenue7</th>\n",
       "      <th>revenue||visit_days7</th>\n",
       "    </tr>\n",
       "    <tr>\n",
       "      <th>id</th>\n",
       "      <th></th>\n",
       "      <th></th>\n",
       "      <th></th>\n",
       "      <th></th>\n",
       "      <th></th>\n",
       "      <th></th>\n",
       "      <th></th>\n",
       "      <th></th>\n",
       "      <th></th>\n",
       "      <th></th>\n",
       "      <th></th>\n",
       "      <th></th>\n",
       "      <th></th>\n",
       "      <th></th>\n",
       "      <th></th>\n",
       "      <th></th>\n",
       "      <th></th>\n",
       "      <th></th>\n",
       "      <th></th>\n",
       "      <th></th>\n",
       "      <th></th>\n",
       "    </tr>\n",
       "  </thead>\n",
       "  <tbody>\n",
       "    <tr>\n",
       "      <th>0070e26ea8</th>\n",
       "      <td>92.178571</td>\n",
       "      <td>-21.250000</td>\n",
       "      <td>1.857143</td>\n",
       "      <td>-0.428571</td>\n",
       "      <td>0.000000</td>\n",
       "      <td>0.000000</td>\n",
       "      <td>0.000000</td>\n",
       "      <td>0.000000</td>\n",
       "      <td>0.000000</td>\n",
       "      <td>0.000000</td>\n",
       "      <td>...</td>\n",
       "      <td>0</td>\n",
       "      <td>0</td>\n",
       "      <td>0</td>\n",
       "      <td>0</td>\n",
       "      <td>0</td>\n",
       "      <td>2</td>\n",
       "      <td>4</td>\n",
       "      <td>0.0000</td>\n",
       "      <td>2.000000</td>\n",
       "      <td>-2.192734</td>\n",
       "    </tr>\n",
       "    <tr>\n",
       "      <th>0078182127</th>\n",
       "      <td>4811.892857</td>\n",
       "      <td>-374.535714</td>\n",
       "      <td>82.892857</td>\n",
       "      <td>-9.964286</td>\n",
       "      <td>37463.147500</td>\n",
       "      <td>-6476.413929</td>\n",
       "      <td>527.524200</td>\n",
       "      <td>-94.752665</td>\n",
       "      <td>8.667166</td>\n",
       "      <td>-1.617204</td>\n",
       "      <td>...</td>\n",
       "      <td>0</td>\n",
       "      <td>0</td>\n",
       "      <td>0</td>\n",
       "      <td>0</td>\n",
       "      <td>1</td>\n",
       "      <td>7</td>\n",
       "      <td>49</td>\n",
       "      <td>15779.6675</td>\n",
       "      <td>0.000055</td>\n",
       "      <td>3.901038</td>\n",
       "    </tr>\n",
       "    <tr>\n",
       "      <th>008376e7a9</th>\n",
       "      <td>5157.964286</td>\n",
       "      <td>-1170.750000</td>\n",
       "      <td>62.821429</td>\n",
       "      <td>-14.321429</td>\n",
       "      <td>3291.546429</td>\n",
       "      <td>-658.309286</td>\n",
       "      <td>193.620378</td>\n",
       "      <td>-38.724076</td>\n",
       "      <td>2.201703</td>\n",
       "      <td>-0.440341</td>\n",
       "      <td>...</td>\n",
       "      <td>0</td>\n",
       "      <td>0</td>\n",
       "      <td>0</td>\n",
       "      <td>0</td>\n",
       "      <td>0</td>\n",
       "      <td>3</td>\n",
       "      <td>9</td>\n",
       "      <td>2304.0825</td>\n",
       "      <td>0.000325</td>\n",
       "      <td>-1.410533</td>\n",
       "    </tr>\n",
       "    <tr>\n",
       "      <th>00842acbab</th>\n",
       "      <td>1927.321429</td>\n",
       "      <td>-247.250000</td>\n",
       "      <td>33.642857</td>\n",
       "      <td>-5.214286</td>\n",
       "      <td>0.000000</td>\n",
       "      <td>0.000000</td>\n",
       "      <td>0.000000</td>\n",
       "      <td>0.000000</td>\n",
       "      <td>0.000000</td>\n",
       "      <td>0.000000</td>\n",
       "      <td>...</td>\n",
       "      <td>0</td>\n",
       "      <td>0</td>\n",
       "      <td>0</td>\n",
       "      <td>0</td>\n",
       "      <td>0</td>\n",
       "      <td>6</td>\n",
       "      <td>36</td>\n",
       "      <td>0.0000</td>\n",
       "      <td>6.000000</td>\n",
       "      <td>-0.067830</td>\n",
       "    </tr>\n",
       "    <tr>\n",
       "      <th>0087035c32</th>\n",
       "      <td>2294.285714</td>\n",
       "      <td>-271.142857</td>\n",
       "      <td>32.964286</td>\n",
       "      <td>-5.750000</td>\n",
       "      <td>0.000000</td>\n",
       "      <td>0.000000</td>\n",
       "      <td>0.000000</td>\n",
       "      <td>0.000000</td>\n",
       "      <td>0.000000</td>\n",
       "      <td>0.000000</td>\n",
       "      <td>...</td>\n",
       "      <td>0</td>\n",
       "      <td>0</td>\n",
       "      <td>0</td>\n",
       "      <td>0</td>\n",
       "      <td>0</td>\n",
       "      <td>5</td>\n",
       "      <td>25</td>\n",
       "      <td>0.0000</td>\n",
       "      <td>5.000000</td>\n",
       "      <td>-0.599056</td>\n",
       "    </tr>\n",
       "  </tbody>\n",
       "</table>\n",
       "<p>5 rows × 30 columns</p>\n",
       "</div>"
      ],
      "text/plain": [
       "            sessions_lr_0  sessions_lr_1  all_quests_lr_0  all_quests_lr_1  \\\n",
       "id                                                                           \n",
       "0070e26ea8      92.178571     -21.250000         1.857143        -0.428571   \n",
       "0078182127    4811.892857    -374.535714        82.892857        -9.964286   \n",
       "008376e7a9    5157.964286   -1170.750000        62.821429       -14.321429   \n",
       "00842acbab    1927.321429    -247.250000        33.642857        -5.214286   \n",
       "0087035c32    2294.285714    -271.142857        32.964286        -5.750000   \n",
       "\n",
       "            revenue_lr_0  revenue_lr_1  revenue/all_quests_lr_0  \\\n",
       "id                                                                \n",
       "0070e26ea8      0.000000      0.000000                 0.000000   \n",
       "0078182127  37463.147500  -6476.413929               527.524200   \n",
       "008376e7a9   3291.546429   -658.309286               193.620378   \n",
       "00842acbab      0.000000      0.000000                 0.000000   \n",
       "0087035c32      0.000000      0.000000                 0.000000   \n",
       "\n",
       "            revenue/all_quests_lr_1  revenue/sessions_lr_0  \\\n",
       "id                                                           \n",
       "0070e26ea8                 0.000000               0.000000   \n",
       "0078182127               -94.752665               8.667166   \n",
       "008376e7a9               -38.724076               2.201703   \n",
       "00842acbab                 0.000000               0.000000   \n",
       "0087035c32                 0.000000               0.000000   \n",
       "\n",
       "            revenue/sessions_lr_1          ...           CH  RU  CA  SE  SG  \\\n",
       "id                                         ...                                \n",
       "0070e26ea8               0.000000          ...            0   0   0   0   0   \n",
       "0078182127              -1.617204          ...            0   0   0   0   1   \n",
       "008376e7a9              -0.440341          ...            0   0   0   0   0   \n",
       "00842acbab               0.000000          ...            0   0   0   0   0   \n",
       "0087035c32               0.000000          ...            0   0   0   0   0   \n",
       "\n",
       "            visit_days7  visit_days7_2  revenue/visit_days7  \\\n",
       "id                                                            \n",
       "0070e26ea8            2              4               0.0000   \n",
       "0078182127            7             49           15779.6675   \n",
       "008376e7a9            3              9            2304.0825   \n",
       "00842acbab            6             36               0.0000   \n",
       "0087035c32            5             25               0.0000   \n",
       "\n",
       "            visit_days/revenue7  revenue||visit_days7  \n",
       "id                                                     \n",
       "0070e26ea8             2.000000             -2.192734  \n",
       "0078182127             0.000055              3.901038  \n",
       "008376e7a9             0.000325             -1.410533  \n",
       "00842acbab             6.000000             -0.067830  \n",
       "0087035c32             5.000000             -0.599056  \n",
       "\n",
       "[5 rows x 30 columns]"
      ]
     },
     "execution_count": 51,
     "metadata": {},
     "output_type": "execute_result"
    }
   ],
   "source": [
    "# X1_test = payers_all_quests_ts_test.iloc[:, :7].join(payers_revenue_ts_test.iloc[:, :7], lsuffix=\"all_quests\", rsuffix=\"revenue_\").join(payers_session_ts_test.iloc[:, :7])\n",
    "\n",
    "# коэффициенты регрессий по временным рядам\n",
    "X1_test = sessions_lr_coefs_test.join(all_quests_lr_coefs_test).join(revenue_lr_coefs_test)\n",
    "\n",
    "# коэффициенты регрессий для отношений признаков\n",
    "X1_test = X1_test.join(revenue_all_quests_lr_coefs_test).join(revenue_sessions_lr_coefs_test)\n",
    "X1_test = X1_test.join(all_quests_revenue_lr_coefs_test).join(all_quests_sessions_lr_coefs_test)\n",
    "\n",
    "# число посещений за 7 дней\n",
    "# X1_test[\"visit7\"] = payers_visit_ts_test.iloc[:, :7].sum(axis=1)\n",
    "\n",
    "# число оплат за 7 дней\n",
    "X1_test[\"transactions7\"] = payers_transactions_ts_test.iloc[:, :7].sum(axis=1)\n",
    "\n",
    "# 10 самых популярных стран\n",
    "X1_test = X1_test.join(payers_country_test[top_countries[:10].index])\n",
    "\n",
    "# число дней посещений за 7 дней\n",
    "X1_test[\"visit_days7\"] = payers_visit_days_ts_test.iloc[:, :7].sum(axis=1)\n",
    "X1_test[\"visit_days7_2\"] = payers_visit_days_ts_test.iloc[:, :7].sum(axis=1) ** 2\n",
    "\n",
    "# число оплат / число посещений\n",
    "# X1_test[\"transactions/visits7\"] = payers_transactions_ts_test.iloc[:, :7].sum(axis=1) / (payers_visit_ts_test.iloc[:, :7].sum(axis=1) + 1)\n",
    "# X1_test[\"transactions/visit_days7\"] = payers_transactions_ts_test.iloc[:, :7].sum(axis=1) / (payers_visit_days_ts_test.iloc[:, :7].sum(axis=1) + 1)\n",
    "\n",
    "# суммарный доход / число посещений\n",
    "X1_test[\"revenue/visit_days7\"] = payers_revenue_ts_test.iloc[:, :7].sum(axis=1) / (payers_visit_days_ts_test.iloc[:, :7].sum(axis=1) + 1)\n",
    "X1_test[\"visit_days/revenue7\"] = payers_visit_days_ts_test.iloc[:, :7].sum(axis=1) / (payers_revenue_ts_test.iloc[:, :7].sum(axis=1) + 1)\n",
    "\n",
    "\n",
    "\n",
    "X1_test[\"revenue||visit_days7\"] = StandardScaler().fit_transform(payers_revenue_ts_test.iloc[:, :7].sum(axis=1)) \\\n",
    "+ StandardScaler().fit_transform(payers_visit_days_ts_test.iloc[:, :7].sum(axis=1))\n",
    "# X1_test[\"all_quests&&visit_days7\"] = StandardScaler().fit_transform(payers_all_quests_ts_test.iloc[:, :7].sum(axis=1)) \\\n",
    "# * StandardScaler().fit_transform(payers_visit_days_ts_test.iloc[:, :7].sum(axis=1))\n",
    "# X1_test[\"all_quests&&session7\"] = StandardScaler().fit_transform(payers_all_quests_ts_test.iloc[:, :7].sum(axis=1)) \\\n",
    "# * StandardScaler().fit_transform(payers_session_ts_test.iloc[:, :7].sum(axis=1))\n",
    "\n",
    "X1_test.head()"
   ]
  },
  {
   "cell_type": "code",
   "execution_count": 52,
   "metadata": {
    "collapsed": false
   },
   "outputs": [
    {
     "data": {
      "text/plain": [
       "[<matplotlib.lines.Line2D at 0x7faf36e20d68>]"
      ]
     },
     "execution_count": 52,
     "metadata": {},
     "output_type": "execute_result"
    },
    {
     "data": {
      "image/png": "[encoded data removed]",
      "text/plain": [
       "<matplotlib.figure.Figure at 0x7faf375805c0>"
      ]
     },
     "metadata": {},
     "output_type": "display_data"
    }
   ],
   "source": [
    "plt.plot(np.sort(y))"
   ]
  },
  {
   "cell_type": "code",
   "execution_count": 53,
   "metadata": {
    "collapsed": false
   },
   "outputs": [
    {
     "data": {
      "text/plain": [
       "[<matplotlib.lines.Line2D at 0x7faf36c6e780>]"
      ]
     },
     "execution_count": 53,
     "metadata": {},
     "output_type": "execute_result"
    },
    {
     "data": {
      "image/png": "[encoded data removed]",
      "text/plain": [
       "<matplotlib.figure.Figure at 0x7faf3709a160>"
      ]
     },
     "metadata": {},
     "output_type": "display_data"
    }
   ],
   "source": [
    "plt.plot(np.sort(y[y < 100000]))"
   ]
  },
  {
   "cell_type": "code",
   "execution_count": 54,
   "metadata": {
    "collapsed": false
   },
   "outputs": [
    {
     "name": "stdout",
     "output_type": "stream",
     "text": [
      "(6887, 30) (2830, 30)\n",
      "(4237, 30) (1777, 30)\n"
     ]
    }
   ],
   "source": [
    "print(X1.shape, X1_test.shape)\n",
    "y1 = y.copy()\n",
    "y1_test = y_test.copy()\n",
    "\n",
    "# исключение выбросов (ограничение ltv сверху)\n",
    "t = 30000\n",
    "X1 = X1[y1 < t]\n",
    "y1 = y1[y1 < t]\n",
    "X1_test = X1_test[y1_test < t]\n",
    "y1_test = y1_test[y1_test < t]\n",
    "\n",
    "# исключение игроков, которые не платили в течение первой недели\n",
    "X1 = X1[payers_revenue_ts.iloc[:, :7].sum(axis=1) != 0]\n",
    "y1 = y1[payers_revenue_ts.iloc[:, :7].sum(axis=1) != 0]\n",
    "X1_test = X1_test[payers_revenue_ts_test.iloc[:, :7].sum(axis=1) != 0]\n",
    "y1_test = y1_test[payers_revenue_ts_test.iloc[:, :7].sum(axis=1) != 0]\n",
    "print(X1.shape, X1_test.shape)"
   ]
  },
  {
   "cell_type": "code",
   "execution_count": 55,
   "metadata": {
    "collapsed": false,
    "scrolled": true
   },
   "outputs": [
    {
     "name": "stdout",
     "output_type": "stream",
     "text": [
      "R2 0.773988045062 0.77161987058\n",
      "MAE 2247.80285091 2364.61295753\n",
      "RMSE 3669.25017317 3777.39831449\n"
     ]
    },
    {
     "data": {
      "text/html": [
       "<div>\n",
       "<table border=\"1\" class=\"dataframe\">\n",
       "  <thead>\n",
       "    <tr style=\"text-align: right;\">\n",
       "      <th></th>\n",
       "      <th>0</th>\n",
       "      <th>1</th>\n",
       "    </tr>\n",
       "  </thead>\n",
       "  <tbody>\n",
       "    <tr>\n",
       "      <th>0</th>\n",
       "      <td>revenue_lr_0</td>\n",
       "      <td>12911.740191</td>\n",
       "    </tr>\n",
       "    <tr>\n",
       "      <th>1</th>\n",
       "      <td>revenue_lr_1</td>\n",
       "      <td>9723.218311</td>\n",
       "    </tr>\n",
       "    <tr>\n",
       "      <th>2</th>\n",
       "      <td>revenue||visit_days7</td>\n",
       "      <td>3601.003154</td>\n",
       "    </tr>\n",
       "    <tr>\n",
       "      <th>3</th>\n",
       "      <td>visit_days7</td>\n",
       "      <td>-3131.454632</td>\n",
       "    </tr>\n",
       "    <tr>\n",
       "      <th>4</th>\n",
       "      <td>all_quests_lr_1</td>\n",
       "      <td>1218.163880</td>\n",
       "    </tr>\n",
       "    <tr>\n",
       "      <th>5</th>\n",
       "      <td>all_quests/revenue_lr_0</td>\n",
       "      <td>-1013.177572</td>\n",
       "    </tr>\n",
       "    <tr>\n",
       "      <th>6</th>\n",
       "      <td>all_quests_lr_0</td>\n",
       "      <td>977.013099</td>\n",
       "    </tr>\n",
       "    <tr>\n",
       "      <th>7</th>\n",
       "      <td>all_quests/revenue_lr_1</td>\n",
       "      <td>-952.315522</td>\n",
       "    </tr>\n",
       "    <tr>\n",
       "      <th>8</th>\n",
       "      <td>sessions_lr_1</td>\n",
       "      <td>653.716046</td>\n",
       "    </tr>\n",
       "    <tr>\n",
       "      <th>9</th>\n",
       "      <td>visit_days/revenue7</td>\n",
       "      <td>-461.803618</td>\n",
       "    </tr>\n",
       "    <tr>\n",
       "      <th>10</th>\n",
       "      <td>sessions_lr_0</td>\n",
       "      <td>428.820030</td>\n",
       "    </tr>\n",
       "    <tr>\n",
       "      <th>11</th>\n",
       "      <td>revenue/visit_days7</td>\n",
       "      <td>356.559536</td>\n",
       "    </tr>\n",
       "    <tr>\n",
       "      <th>12</th>\n",
       "      <td>visit_days7_2</td>\n",
       "      <td>328.177771</td>\n",
       "    </tr>\n",
       "    <tr>\n",
       "      <th>13</th>\n",
       "      <td>transactions7</td>\n",
       "      <td>225.883434</td>\n",
       "    </tr>\n",
       "    <tr>\n",
       "      <th>14</th>\n",
       "      <td>US</td>\n",
       "      <td>193.676273</td>\n",
       "    </tr>\n",
       "    <tr>\n",
       "      <th>15</th>\n",
       "      <td>CA</td>\n",
       "      <td>157.189173</td>\n",
       "    </tr>\n",
       "    <tr>\n",
       "      <th>16</th>\n",
       "      <td>FR</td>\n",
       "      <td>135.310203</td>\n",
       "    </tr>\n",
       "    <tr>\n",
       "      <th>17</th>\n",
       "      <td>revenue/all_quests_lr_1</td>\n",
       "      <td>98.360701</td>\n",
       "    </tr>\n",
       "    <tr>\n",
       "      <th>18</th>\n",
       "      <td>revenue/sessions_lr_0</td>\n",
       "      <td>94.201837</td>\n",
       "    </tr>\n",
       "    <tr>\n",
       "      <th>19</th>\n",
       "      <td>SG</td>\n",
       "      <td>-86.851143</td>\n",
       "    </tr>\n",
       "    <tr>\n",
       "      <th>20</th>\n",
       "      <td>all_quests/sessions_lr_0</td>\n",
       "      <td>-81.334969</td>\n",
       "    </tr>\n",
       "    <tr>\n",
       "      <th>21</th>\n",
       "      <td>DE</td>\n",
       "      <td>-66.717995</td>\n",
       "    </tr>\n",
       "    <tr>\n",
       "      <th>22</th>\n",
       "      <td>SE</td>\n",
       "      <td>36.962562</td>\n",
       "    </tr>\n",
       "    <tr>\n",
       "      <th>23</th>\n",
       "      <td>revenue/all_quests_lr_0</td>\n",
       "      <td>36.227297</td>\n",
       "    </tr>\n",
       "    <tr>\n",
       "      <th>24</th>\n",
       "      <td>GB</td>\n",
       "      <td>32.011468</td>\n",
       "    </tr>\n",
       "    <tr>\n",
       "      <th>25</th>\n",
       "      <td>AU</td>\n",
       "      <td>-14.102440</td>\n",
       "    </tr>\n",
       "    <tr>\n",
       "      <th>26</th>\n",
       "      <td>RU</td>\n",
       "      <td>12.224335</td>\n",
       "    </tr>\n",
       "    <tr>\n",
       "      <th>27</th>\n",
       "      <td>CH</td>\n",
       "      <td>7.484323</td>\n",
       "    </tr>\n",
       "    <tr>\n",
       "      <th>28</th>\n",
       "      <td>all_quests/sessions_lr_1</td>\n",
       "      <td>3.825551</td>\n",
       "    </tr>\n",
       "    <tr>\n",
       "      <th>29</th>\n",
       "      <td>revenue/sessions_lr_1</td>\n",
       "      <td>0.491165</td>\n",
       "    </tr>\n",
       "  </tbody>\n",
       "</table>\n",
       "</div>"
      ],
      "text/plain": [
       "                           0             1\n",
       "0               revenue_lr_0  12911.740191\n",
       "1               revenue_lr_1   9723.218311\n",
       "2       revenue||visit_days7   3601.003154\n",
       "3                visit_days7  -3131.454632\n",
       "4            all_quests_lr_1   1218.163880\n",
       "5    all_quests/revenue_lr_0  -1013.177572\n",
       "6            all_quests_lr_0    977.013099\n",
       "7    all_quests/revenue_lr_1   -952.315522\n",
       "8              sessions_lr_1    653.716046\n",
       "9        visit_days/revenue7   -461.803618\n",
       "10             sessions_lr_0    428.820030\n",
       "11       revenue/visit_days7    356.559536\n",
       "12             visit_days7_2    328.177771\n",
       "13             transactions7    225.883434\n",
       "14                        US    193.676273\n",
       "15                        CA    157.189173\n",
       "16                        FR    135.310203\n",
       "17   revenue/all_quests_lr_1     98.360701\n",
       "18     revenue/sessions_lr_0     94.201837\n",
       "19                        SG    -86.851143\n",
       "20  all_quests/sessions_lr_0    -81.334969\n",
       "21                        DE    -66.717995\n",
       "22                        SE     36.962562\n",
       "23   revenue/all_quests_lr_0     36.227297\n",
       "24                        GB     32.011468\n",
       "25                        AU    -14.102440\n",
       "26                        RU     12.224335\n",
       "27                        CH      7.484323\n",
       "28  all_quests/sessions_lr_1      3.825551\n",
       "29     revenue/sessions_lr_1      0.491165"
      ]
     },
     "execution_count": 55,
     "metadata": {},
     "output_type": "execute_result"
    }
   ],
   "source": [
    "ss = StandardScaler()\n",
    "est = Ridge(alpha=1e0)\n",
    "# est = GradientBoostingRegressor(n_estimators=700, subsample=0.5, learning_rate=0.02, max_depth=5)\n",
    "# est = SVR(C=1e5) # ! R2 worse, MAE RMSE better\n",
    "# est = SVR(kernel=\"linear\", C=1e2)\n",
    "std_est = Pipeline([(\"std_scaler\", ss), (\"estimator\", est)])\n",
    "\n",
    "std_est, y_pred, y_pred_test = train_model(X=X1, y=y1, X_test=X1_test, y_test=y1_test, model=std_est, lower_bound=None)\n",
    "\n",
    "weights = list(zip(X1.columns, est.coef_))\n",
    "weights.sort(key=lambda x: -abs(x[1]))\n",
    "pd.DataFrame(weights)"
   ]
  },
  {
   "cell_type": "code",
   "execution_count": 77,
   "metadata": {
    "collapsed": false
   },
   "outputs": [
    {
     "name": "stdout",
     "output_type": "stream",
     "text": [
      "R2 0.786001602415 0.745311852784\n",
      "MAE 2279.07003977 2754.04201297\n",
      "RMSE 3570.40003567 3989.03633195\n"
     ]
    }
   ],
   "source": [
    "ss = StandardScaler()\n",
    "est = RandomForestRegressor(n_estimators=30, max_depth=5)\n",
    "std_est = Pipeline([(\"std_scaler\", ss), (\"estimator\", est)])\n",
    "\n",
    "std_est, y_pred, y_pred_test = train_model(X=X1, y=y1, X_test=X1_test, y_test=y1_test, model=std_est, lower_bound=None)"
   ]
  },
  {
   "cell_type": "code",
   "execution_count": 88,
   "metadata": {
    "collapsed": false
   },
   "outputs": [
    {
     "name": "stdout",
     "output_type": "stream",
     "text": [
      "R2 0.782852101757 0.73038966952\n",
      "MAE 1602.77007594 2346.39867853\n",
      "RMSE 3596.5775792 4104.23187753\n"
     ]
    }
   ],
   "source": [
    "ss = StandardScaler()\n",
    "est = RandomForestRegressor(n_estimators=20, max_depth=7, criterion=\"mae\")\n",
    "std_est = Pipeline([(\"std_scaler\", ss), (\"estimator\", est)])\n",
    "\n",
    "std_est, y_pred, y_pred_test = train_model(X=X1, y=y1, X_test=X1_test, y_test=y1_test, model=std_est, lower_bound=None)"
   ]
  },
  {
   "cell_type": "code",
   "execution_count": 108,
   "metadata": {
    "collapsed": false
   },
   "outputs": [
    {
     "name": "stdout",
     "output_type": "stream",
     "text": [
      "R2 0.815169259847 0.76233617055\n",
      "MAE 2082.85626813 2478.42015421\n",
      "RMSE 3318.17065948 3853.40955669\n"
     ]
    }
   ],
   "source": [
    "ss = StandardScaler()\n",
    "est = ExtraTreesRegressor(n_estimators=100, max_depth=8, bootstrap=True)\n",
    "std_est = Pipeline([(\"std_scaler\", ss), (\"estimator\", est)])\n",
    "\n",
    "std_est, y_pred, y_pred_test = train_model(X=X1, y=y1, X_test=X1_test, y_test=y1_test, model=std_est, lower_bound=None)"
   ]
  },
  {
   "cell_type": "code",
   "execution_count": 59,
   "metadata": {
    "collapsed": false
   },
   "outputs": [
    {
     "name": "stdout",
     "output_type": "stream",
     "text": [
      "R2 0.766334563007 0.74004687374\n",
      "MAE 1661.72408678 1934.68313056\n",
      "RMSE 3730.85917408 4030.05661467\n"
     ]
    }
   ],
   "source": [
    "ss = StandardScaler()\n",
    "est = ExtraTreesRegressor(n_estimators=30, max_depth=8, bootstrap=True, criterion=\"mae\")\n",
    "std_est = Pipeline([(\"std_scaler\", ss), (\"estimator\", est)])\n",
    "\n",
    "std_est, y_pred, y_pred_test = train_model(X=X1, y=y1, X_test=X1_test, y_test=y1_test, model=std_est, lower_bound=None)"
   ]
  },
  {
   "cell_type": "code",
   "execution_count": 75,
   "metadata": {
    "collapsed": false
   },
   "outputs": [
    {
     "name": "stdout",
     "output_type": "stream",
     "text": [
      "R2 0.795750143787 0.753155009787\n",
      "MAE 2246.46183231 2747.33813767\n",
      "RMSE 3488.12867338 3927.13457201\n"
     ]
    }
   ],
   "source": [
    "ss = StandardScaler()\n",
    "est = GradientBoostingRegressor(n_estimators=300, subsample=0.8, learning_rate=0.01, max_depth=4)\n",
    "std_est = Pipeline([(\"std_scaler\", ss), (\"estimator\", est)])\n",
    "\n",
    "std_est, y_pred, y_pred_test = train_model(X=X1, y=y1, X_test=X1_test, y_test=y1_test, model=std_est, lower_bound=None)"
   ]
  },
  {
   "cell_type": "code",
   "execution_count": 61,
   "metadata": {
    "collapsed": false
   },
   "outputs": [
    {
     "name": "stdout",
     "output_type": "stream",
     "text": [
      "R2 0.748068307543 0.72271504923\n",
      "MAE 1534.58336432 1847.06129718\n",
      "RMSE 3873.94115573 4162.23670344\n"
     ]
    }
   ],
   "source": [
    "ss = StandardScaler()\n",
    "est = SVR(C=1e4)\n",
    "std_est = Pipeline([(\"std_scaler\", ss), (\"estimator\", est)])\n",
    "\n",
    "std_est, y_pred, y_pred_test = train_model(X=X1, y=y1, X_test=X1_test, y_test=y1_test, model=std_est, lower_bound=None)"
   ]
  },
  {
   "cell_type": "code",
   "execution_count": 77,
   "metadata": {
    "collapsed": false
   },
   "outputs": [
    {
     "name": "stdout",
     "output_type": "stream",
     "text": [
      "R2 0.714945238911 0.723247795242\n",
      "MAE 1603.42300908 1685.72314771\n",
      "RMSE 4120.74525352 4158.2363401\n"
     ]
    }
   ],
   "source": [
    "ss = StandardScaler()\n",
    "est = SVR(kernel=\"linear\", C=1e2)\n",
    "std_est = Pipeline([(\"std_scaler\", ss), (\"estimator\", est)])\n",
    "\n",
    "std_est, y_pred, y_pred_test = train_model(X=X1, y=y1, X_test=X1_test, y_test=y1_test, model=std_est, lower_bound=None)"
   ]
  },
  {
   "cell_type": "code",
   "execution_count": null,
   "metadata": {
    "collapsed": true
   },
   "outputs": [],
   "source": []
  }
 ],
 "metadata": {
  "anaconda-cloud": {},
  "kernelspec": {
   "display_name": "Python [conda env:py3]",
   "language": "python",
   "name": "conda-env-py3-py"
  },
  "language_info": {
   "codemirror_mode": {
    "name": "ipython",
    "version": 3
   },
   "file_extension": ".py",
   "mimetype": "text/x-python",
   "name": "python",
   "nbconvert_exporter": "python",
   "pygments_lexer": "ipython3",
   "version": "3.4.5"
  }
 },
 "nbformat": 4,
 "nbformat_minor": 2
}
